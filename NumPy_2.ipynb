{
  "nbformat": 4,
  "nbformat_minor": 0,
  "metadata": {
    "colab": {
      "provenance": [],
      "authorship_tag": "ABX9TyOz5ZfsjeyCCO4n+UQBRMq3",
      "include_colab_link": true
    },
    "kernelspec": {
      "name": "python3",
      "display_name": "Python 3"
    },
    "language_info": {
      "name": "python"
    }
  },
  "cells": [
    {
      "cell_type": "markdown",
      "metadata": {
        "id": "view-in-github",
        "colab_type": "text"
      },
      "source": [
        "<a href=\"https://colab.research.google.com/github/SnigdhaSaklani/SnigdhaSaklani-python./blob/main/NumPy_2.ipynb\" target=\"_parent\"><img src=\"https://colab.research.google.com/assets/colab-badge.svg\" alt=\"Open In Colab\"/></a>"
      ]
    },
    {
      "cell_type": "code",
      "execution_count": 7,
      "metadata": {
        "colab": {
          "base_uri": "https://localhost:8080/"
        },
        "id": "4nWAuJ_--c-n",
        "outputId": "c7899537-8bd7-431f-fdf9-abfb13454b82"
      },
      "outputs": [
        {
          "output_type": "stream",
          "name": "stdout",
          "text": [
            "The defined array is \n",
            "[[37 35]\n",
            " [16 29]\n",
            " [26 22]\n",
            " [36 13]\n",
            " [10 24]\n",
            " [20 38]\n",
            " [21 10]\n",
            " [25 19]]\n",
            " \n",
            " The shape of the array is (8, 2)\n"
          ]
        }
      ],
      "source": [
        "#Load the NumPy\n",
        "\n",
        "import numpy as np\n",
        "arravali = np.array(np.random.randint(10,45,(8,2)))\n",
        "print(f\"The defined array is \\n{arravali}\")\n",
        "print(f\" \\n The shape of the array is {arravali.shape}\")"
      ]
    },
    {
      "cell_type": "code",
      "source": [
        "#Storing the transpose in another matrix object\n",
        "\n",
        "nilgiri = np.transpose(arravali)\n",
        "print(f\" This transpose of the array is \\n{nilgiri}\")\n",
        "print(f\" \\n The shape of the array is {nilgiri.shape}\")"
      ],
      "metadata": {
        "colab": {
          "base_uri": "https://localhost:8080/"
        },
        "id": "R-Fj7QKX_eYQ",
        "outputId": "af93c592-4357-4aca-dfab-5405874ff37b"
      },
      "execution_count": 11,
      "outputs": [
        {
          "output_type": "stream",
          "name": "stdout",
          "text": [
            " This transpose of the array is \n",
            "[[37 16 26 36 10 20 21 25]\n",
            " [35 29 22 13 24 38 10 19]]\n",
            " \n",
            " The shape of the array is (2, 8)\n"
          ]
        }
      ]
    },
    {
      "cell_type": "code",
      "source": [
        "#3D Array\n",
        "\n",
        "random_3d_array = np.array(np.random.randint(10,45,(3,2,4)))\n",
        "print(f\"The defined array is \\n{random_3d_array}\")\n",
        "print(f\" \\n The shape of the array is {random_3d_array.shape}\")"
      ],
      "metadata": {
        "colab": {
          "base_uri": "https://localhost:8080/"
        },
        "id": "Ljw1AsAD_3MI",
        "outputId": "c881bf38-09c0-41a7-e52a-67595a48cc74"
      },
      "execution_count": 13,
      "outputs": [
        {
          "output_type": "stream",
          "name": "stdout",
          "text": [
            "The defined array is \n",
            "[[[27 26 34 43]\n",
            "  [12 17 30 34]]\n",
            "\n",
            " [[27 39 19 35]\n",
            "  [18 10 22 20]]\n",
            "\n",
            " [[19 41 41 42]\n",
            "  [39 23 40 18]]]\n",
            " \n",
            " The shape of the array is (3, 2, 4)\n"
          ]
        }
      ]
    },
    {
      "cell_type": "code",
      "source": [
        "#Storing the transpose of the created 3D Array\n",
        "\n",
        "transpose_3d_array = np.transpose(random_3d_array)\n",
        "print(f\" This transpose of the array is \\n{transpose_3d_array}\")\n",
        "print(f\" \\n The shape of the array is {transpose_3d_array.shape}\")"
      ],
      "metadata": {
        "colab": {
          "base_uri": "https://localhost:8080/"
        },
        "id": "ucKHuP33_-yK",
        "outputId": "142cc838-bd0d-4358-c471-0c05c729b04f"
      },
      "execution_count": 16,
      "outputs": [
        {
          "output_type": "stream",
          "name": "stdout",
          "text": [
            " This transpose of the array is \n",
            "[[[27 27 19]\n",
            "  [12 18 39]]\n",
            "\n",
            " [[26 39 41]\n",
            "  [17 10 23]]\n",
            "\n",
            " [[34 19 41]\n",
            "  [30 22 40]]\n",
            "\n",
            " [[43 35 42]\n",
            "  [34 20 18]]]\n",
            " \n",
            " The shape of the array is (4, 2, 3)\n"
          ]
        }
      ]
    },
    {
      "cell_type": "code",
      "source": [
        "#Create a two dimensional array\n",
        "\n",
        "random_cohort = np.array(np.random.randint(10,45,(3,8)))\n",
        "print(f\"The defined array is \\n{random_cohort}\")\n",
        "print(f\" \\n The shape of the array is {random_cohort.shape}\")"
      ],
      "metadata": {
        "colab": {
          "base_uri": "https://localhost:8080/"
        },
        "id": "Em_f9hsTAOx8",
        "outputId": "f32f2387-5c27-464e-e1ac-1a00a65a5cf3"
      },
      "execution_count": 18,
      "outputs": [
        {
          "output_type": "stream",
          "name": "stdout",
          "text": [
            "The defined array is \n",
            "[[20 42 34 17 40 42 16 24]\n",
            " [25 19 27 17 43 36 40 22]\n",
            " [28 32 16 26 25 18 28 19]]\n",
            " \n",
            " The shape of the array is (3, 8)\n"
          ]
        }
      ]
    },
    {
      "cell_type": "code",
      "source": [
        "#Now we can reshape this to 1D,2D or 3D Array\n",
        "\n",
        "new_shape = (2,6,2)\n",
        "reshaped_random_cohort = np.reshape(random_cohort,new_shape)\n",
        "print(f\"This reshaped array is \\n{reshaped_random_cohort}\")\n",
        "print(f\" \\n The shape of the array is {reshaped_random_cohort.shape}\")"
      ],
      "metadata": {
        "colab": {
          "base_uri": "https://localhost:8080/"
        },
        "id": "QOJqP4hbAZff",
        "outputId": "cee4a219-492d-42e2-f91b-bc32a96ccc84"
      },
      "execution_count": 20,
      "outputs": [
        {
          "output_type": "stream",
          "name": "stdout",
          "text": [
            "This reshaped array is \n",
            "[[[20 42]\n",
            "  [34 17]\n",
            "  [40 42]\n",
            "  [16 24]\n",
            "  [25 19]\n",
            "  [27 17]]\n",
            "\n",
            " [[43 36]\n",
            "  [40 22]\n",
            "  [28 32]\n",
            "  [16 26]\n",
            "  [25 18]\n",
            "  [28 19]]]\n",
            " \n",
            " The shape of the array is (2, 6, 2)\n"
          ]
        }
      ]
    },
    {
      "cell_type": "code",
      "source": [
        "new_shape = (2,-1,6)\n",
        "reshaped_random_cohort = np.reshape(random_cohort,new_shape)\n",
        "print(f\"This reshaped array is \\n{reshaped_random_cohort}\")\n",
        "print(f\" \\n The shape of the array is {reshaped_random_cohort.shape}\")"
      ],
      "metadata": {
        "colab": {
          "base_uri": "https://localhost:8080/"
        },
        "id": "KR5k-srdAmys",
        "outputId": "69705f39-fab4-4995-a8ec-2e74623119ed"
      },
      "execution_count": 21,
      "outputs": [
        {
          "output_type": "stream",
          "name": "stdout",
          "text": [
            "This reshaped array is \n",
            "[[[20 42 34 17 40 42]\n",
            "  [16 24 25 19 27 17]]\n",
            "\n",
            " [[43 36 40 22 28 32]\n",
            "  [16 26 25 18 28 19]]]\n",
            " \n",
            " The shape of the array is (2, 2, 6)\n"
          ]
        }
      ]
    },
    {
      "cell_type": "code",
      "source": [
        "random_3D_cohort = np.array(np.random.randint(10,45,(3,6,2)))\n",
        "print(f\"The defined array is \\n{random_3D_cohort}\")\n",
        "print(f\" \\n The shape of the array is {random_3D_cohort.shape}\")"
      ],
      "metadata": {
        "colab": {
          "base_uri": "https://localhost:8080/"
        },
        "id": "677RKzmQAr4H",
        "outputId": "8229d15e-0045-4a2f-aea0-ceb1c1536d9c"
      },
      "execution_count": 22,
      "outputs": [
        {
          "output_type": "stream",
          "name": "stdout",
          "text": [
            "The defined array is \n",
            "[[[37 41]\n",
            "  [35 33]\n",
            "  [11 19]\n",
            "  [26 16]\n",
            "  [24 37]\n",
            "  [15 11]]\n",
            "\n",
            " [[36 11]\n",
            "  [21 21]\n",
            "  [37 42]\n",
            "  [19 42]\n",
            "  [32 12]\n",
            "  [21 35]]\n",
            "\n",
            " [[11 16]\n",
            "  [39 39]\n",
            "  [20 37]\n",
            "  [44 29]\n",
            "  [18 10]\n",
            "  [25 21]]]\n",
            " \n",
            " The shape of the array is (3, 6, 2)\n"
          ]
        }
      ]
    },
    {
      "cell_type": "code",
      "source": [
        "new_shape = (2,1,6)\n",
        "resize_random_3D_cohort = np.resize(random_3D_cohort,new_shape)\n",
        "print(f\"This resized array is \\n{resize_random_3D_cohort}\")\n",
        "print(f\" \\n The shape of the array is {resize_random_3D_cohort.shape}\")"
      ],
      "metadata": {
        "colab": {
          "base_uri": "https://localhost:8080/"
        },
        "id": "1Ygxu82dAvEB",
        "outputId": "e217c7bf-74b4-4e3a-8cec-392b0c2b8d4c"
      },
      "execution_count": 23,
      "outputs": [
        {
          "output_type": "stream",
          "name": "stdout",
          "text": [
            "This resized array is \n",
            "[[[37 41 35 33 11 19]]\n",
            "\n",
            " [[26 16 24 37 15 11]]]\n",
            " \n",
            " The shape of the array is (2, 1, 6)\n"
          ]
        }
      ]
    },
    {
      "cell_type": "code",
      "source": [
        "random_3D_cohort = np.array(np.random.randint(10,45,(2,4,6)))\n",
        "print(f\"The defined array is \\n{random_3D_cohort}\")\n",
        "print(f\" \\n The shape of the array is {random_3D_cohort.shape}\")"
      ],
      "metadata": {
        "colab": {
          "base_uri": "https://localhost:8080/"
        },
        "id": "bMaP31wGAyof",
        "outputId": "09ef6b58-8dd2-41f3-ea85-fb741b59c09f"
      },
      "execution_count": 24,
      "outputs": [
        {
          "output_type": "stream",
          "name": "stdout",
          "text": [
            "The defined array is \n",
            "[[[33 15 39 34 41 21]\n",
            "  [42 22 10 22 11 16]\n",
            "  [27 33 39 10 42 31]\n",
            "  [28 19 21 29 17 43]]\n",
            "\n",
            " [[42 14 25 12 12 26]\n",
            "  [33 15 20 21 41 36]\n",
            "  [36 35 44 41 27 34]\n",
            "  [42 34 36 29 10 40]]]\n",
            " \n",
            " The shape of the array is (2, 4, 6)\n"
          ]
        }
      ]
    },
    {
      "cell_type": "code",
      "source": [
        "new_shape = (2,3,6)\n",
        "resized_random_3D_cohort = np.resize(random_3D_cohort,new_shape)\n",
        "print(f\"This resized array is \\n{resize_random_3D_cohort}\")\n",
        "print(f\" \\n The shape of the array is {resize_random_3D_cohort.shape}\")"
      ],
      "metadata": {
        "colab": {
          "base_uri": "https://localhost:8080/"
        },
        "id": "zXr-IoxBA1cw",
        "outputId": "6d73aede-095a-40b3-c377-2a08f7104e11"
      },
      "execution_count": 25,
      "outputs": [
        {
          "output_type": "stream",
          "name": "stdout",
          "text": [
            "This resized array is \n",
            "[[[37 41 35 33 11 19]]\n",
            "\n",
            " [[26 16 24 37 15 11]]]\n",
            " \n",
            " The shape of the array is (2, 1, 6)\n"
          ]
        }
      ]
    },
    {
      "cell_type": "code",
      "source": [
        "import numpy as np\n",
        "random_3D_cohort = np.array(np.random.randint(10,45,(2,4,6)))\n",
        "print(f\"The defined array is \\n{random_3D_cohort}\")\n",
        "print(f\" \\n The shape of the array is {random_3D_cohort.shape}\")"
      ],
      "metadata": {
        "colab": {
          "base_uri": "https://localhost:8080/"
        },
        "id": "Jih7JLO4A5DD",
        "outputId": "4af1dec7-a03f-47d7-b29d-008fbdebe906"
      },
      "execution_count": 29,
      "outputs": [
        {
          "output_type": "stream",
          "name": "stdout",
          "text": [
            "The defined array is \n",
            "[[[20 25 28 23 17 40]\n",
            "  [41 14 34 38 24 34]\n",
            "  [21 39 24 39 24 27]\n",
            "  [40 32 25 18 28 36]]\n",
            "\n",
            " [[10 11 34 23 36 22]\n",
            "  [20 25 10 12 21 25]\n",
            "  [38 19 18 27 12 18]\n",
            "  [26 32 29 40 17 20]]]\n",
            " \n",
            " The shape of the array is (2, 4, 6)\n"
          ]
        }
      ]
    },
    {
      "cell_type": "code",
      "source": [
        "new_shape = (2,3,6)\n",
        "resized_random_3D_cohort = np.resize(random_3D_cohort,new_shape)\n",
        "print(f\"This resized array is \\n{resized_random_3D_cohort}\")\n",
        "print(f\" \\n The shape of the array is {resized_random_3D_cohort.shape}\")"
      ],
      "metadata": {
        "colab": {
          "base_uri": "https://localhost:8080/"
        },
        "id": "7vkwb7NQBE0i",
        "outputId": "538af4c1-dda2-4df6-e63a-fdd2a0326895"
      },
      "execution_count": 30,
      "outputs": [
        {
          "output_type": "stream",
          "name": "stdout",
          "text": [
            "This resized array is \n",
            "[[[20 25 28 23 17 40]\n",
            "  [41 14 34 38 24 34]\n",
            "  [21 39 24 39 24 27]]\n",
            "\n",
            " [[40 32 25 18 28 36]\n",
            "  [10 11 34 23 36 22]\n",
            "  [20 25 10 12 21 25]]]\n",
            " \n",
            " The shape of the array is (2, 3, 6)\n"
          ]
        }
      ]
    },
    {
      "cell_type": "code",
      "source": [
        "import numpy as np\n",
        "a = np.random.randint(10,20,(2,3,4))   #Axis 0-2 ; Axis 1-3 ; Axis 2-4\n",
        "print(a)\n",
        "print(a.shape)"
      ],
      "metadata": {
        "colab": {
          "base_uri": "https://localhost:8080/"
        },
        "id": "IXOINbD6BF5j",
        "outputId": "330fb7c2-2094-4d64-d712-084e1d409c07"
      },
      "execution_count": 31,
      "outputs": [
        {
          "output_type": "stream",
          "name": "stdout",
          "text": [
            "[[[16 11 12 12]\n",
            "  [11 17 12 16]\n",
            "  [12 14 10 10]]\n",
            "\n",
            " [[19 11 12 14]\n",
            "  [10 13 18 17]\n",
            "  [17 18 10 19]]]\n",
            "(2, 3, 4)\n"
          ]
        }
      ]
    },
    {
      "cell_type": "code",
      "source": [
        "#Insert along axis = 0\n",
        "np.insert(a,1,100,axis=0)"
      ],
      "metadata": {
        "colab": {
          "base_uri": "https://localhost:8080/"
        },
        "id": "gt6AP2IkBJVs",
        "outputId": "6bf699a0-e39f-498a-fc0e-3c514c7c3c62"
      },
      "execution_count": 32,
      "outputs": [
        {
          "output_type": "execute_result",
          "data": {
            "text/plain": [
              "array([[[ 16,  11,  12,  12],\n",
              "        [ 11,  17,  12,  16],\n",
              "        [ 12,  14,  10,  10]],\n",
              "\n",
              "       [[100, 100, 100, 100],\n",
              "        [100, 100, 100, 100],\n",
              "        [100, 100, 100, 100]],\n",
              "\n",
              "       [[ 19,  11,  12,  14],\n",
              "        [ 10,  13,  18,  17],\n",
              "        [ 17,  18,  10,  19]]])"
            ]
          },
          "metadata": {},
          "execution_count": 32
        }
      ]
    },
    {
      "cell_type": "code",
      "source": [
        "\n",
        "a = np.random.randint(2,6,(2,3,3))\n",
        "print(a)\n",
        "print(a.shape)"
      ],
      "metadata": {
        "colab": {
          "base_uri": "https://localhost:8080/"
        },
        "id": "fpObrOdhBNgN",
        "outputId": "24fcf139-dbd2-4d82-bf52-29f2b73264ef"
      },
      "execution_count": 33,
      "outputs": [
        {
          "output_type": "stream",
          "name": "stdout",
          "text": [
            "[[[2 2 3]\n",
            "  [3 2 4]\n",
            "  [3 2 2]]\n",
            "\n",
            " [[5 4 3]\n",
            "  [4 5 4]\n",
            "  [4 5 5]]]\n",
            "(2, 3, 3)\n"
          ]
        }
      ]
    },
    {
      "cell_type": "code",
      "source": [
        "np.append(a,50)"
      ],
      "metadata": {
        "colab": {
          "base_uri": "https://localhost:8080/"
        },
        "id": "87UW6_lfBRxR",
        "outputId": "7fabfd90-566b-4a6f-d1fc-3b4a0a9196ff"
      },
      "execution_count": 34,
      "outputs": [
        {
          "output_type": "execute_result",
          "data": {
            "text/plain": [
              "array([ 2,  2,  3,  3,  2,  4,  3,  2,  2,  5,  4,  3,  4,  5,  4,  4,  5,\n",
              "        5, 50])"
            ]
          },
          "metadata": {},
          "execution_count": 34
        }
      ]
    },
    {
      "cell_type": "code",
      "source": [
        "b = np.random.randint(2,6,(2,1,3))\n",
        "print(b)"
      ],
      "metadata": {
        "colab": {
          "base_uri": "https://localhost:8080/"
        },
        "id": "PfsHsW5nBUkv",
        "outputId": "fdc87cfb-7f2a-48c1-8ef8-fcac3d8b2a47"
      },
      "execution_count": 35,
      "outputs": [
        {
          "output_type": "stream",
          "name": "stdout",
          "text": [
            "[[[3 3 5]]\n",
            "\n",
            " [[4 3 5]]]\n"
          ]
        }
      ]
    },
    {
      "cell_type": "code",
      "source": [
        "print(a)\n",
        "print(a.shape)"
      ],
      "metadata": {
        "colab": {
          "base_uri": "https://localhost:8080/"
        },
        "id": "dpZkCanEBXys",
        "outputId": "0522ef51-08bc-4c79-86b1-71efb8bf9edc"
      },
      "execution_count": 36,
      "outputs": [
        {
          "output_type": "stream",
          "name": "stdout",
          "text": [
            "[[[2 2 3]\n",
            "  [3 2 4]\n",
            "  [3 2 2]]\n",
            "\n",
            " [[5 4 3]\n",
            "  [4 5 4]\n",
            "  [4 5 5]]]\n",
            "(2, 3, 3)\n"
          ]
        }
      ]
    },
    {
      "cell_type": "code",
      "source": [
        "np.append(a,b,axis=1)"
      ],
      "metadata": {
        "colab": {
          "base_uri": "https://localhost:8080/"
        },
        "id": "_2AF5IlMBbO5",
        "outputId": "d9a5b7da-96e6-45a8-e7ca-a0a6f6dc9034"
      },
      "execution_count": 37,
      "outputs": [
        {
          "output_type": "execute_result",
          "data": {
            "text/plain": [
              "array([[[2, 2, 3],\n",
              "        [3, 2, 4],\n",
              "        [3, 2, 2],\n",
              "        [3, 3, 5]],\n",
              "\n",
              "       [[5, 4, 3],\n",
              "        [4, 5, 4],\n",
              "        [4, 5, 5],\n",
              "        [4, 3, 5]]])"
            ]
          },
          "metadata": {},
          "execution_count": 37
        }
      ]
    },
    {
      "cell_type": "code",
      "source": [
        "import numpy as np\n",
        "a = np.random.randint(2,6,(2,3,3))\n",
        "print(a)\n",
        "print(a.shape)"
      ],
      "metadata": {
        "colab": {
          "base_uri": "https://localhost:8080/"
        },
        "id": "XOUjytKaBd3O",
        "outputId": "695f2cd0-fe99-43b4-e82c-9aca9c71281e"
      },
      "execution_count": 38,
      "outputs": [
        {
          "output_type": "stream",
          "name": "stdout",
          "text": [
            "[[[5 5 4]\n",
            "  [5 3 2]\n",
            "  [5 3 2]]\n",
            "\n",
            " [[4 2 5]\n",
            "  [3 2 3]\n",
            "  [5 3 5]]]\n",
            "(2, 3, 3)\n"
          ]
        }
      ]
    },
    {
      "cell_type": "code",
      "source": [
        "np.delete(a,(0),axis = 0)"
      ],
      "metadata": {
        "colab": {
          "base_uri": "https://localhost:8080/"
        },
        "id": "toxt1UYHBhld",
        "outputId": "8f72d154-cd26-48d4-d780-99779e1c1661"
      },
      "execution_count": 39,
      "outputs": [
        {
          "output_type": "execute_result",
          "data": {
            "text/plain": [
              "array([[[4, 2, 5],\n",
              "        [3, 2, 3],\n",
              "        [5, 3, 5]]])"
            ]
          },
          "metadata": {},
          "execution_count": 39
        }
      ]
    },
    {
      "cell_type": "code",
      "source": [
        "np.delete(a,(0,2),axis = 1)"
      ],
      "metadata": {
        "colab": {
          "base_uri": "https://localhost:8080/"
        },
        "id": "IOXcjRDJBk7k",
        "outputId": "1464fdd9-9442-41bb-8746-9567bd53bf4e"
      },
      "execution_count": 40,
      "outputs": [
        {
          "output_type": "execute_result",
          "data": {
            "text/plain": [
              "array([[[5, 3, 2]],\n",
              "\n",
              "       [[3, 2, 3]]])"
            ]
          },
          "metadata": {},
          "execution_count": 40
        }
      ]
    },
    {
      "cell_type": "code",
      "source": [
        "a"
      ],
      "metadata": {
        "colab": {
          "base_uri": "https://localhost:8080/"
        },
        "id": "CRr7z5ioBppv",
        "outputId": "5a5c1363-9f53-4af5-8b63-8ac1882772ba"
      },
      "execution_count": 41,
      "outputs": [
        {
          "output_type": "execute_result",
          "data": {
            "text/plain": [
              "array([[[5, 5, 4],\n",
              "        [5, 3, 2],\n",
              "        [5, 3, 2]],\n",
              "\n",
              "       [[4, 2, 5],\n",
              "        [3, 2, 3],\n",
              "        [5, 3, 5]]])"
            ]
          },
          "metadata": {},
          "execution_count": 41
        }
      ]
    },
    {
      "cell_type": "code",
      "source": [
        "np.delete(a,(0,1),axis = 2)"
      ],
      "metadata": {
        "colab": {
          "base_uri": "https://localhost:8080/"
        },
        "id": "l1cWwP4pBqlD",
        "outputId": "0ca3eff7-3151-47c3-a08a-a4d6085c75e0"
      },
      "execution_count": 42,
      "outputs": [
        {
          "output_type": "execute_result",
          "data": {
            "text/plain": [
              "array([[[4],\n",
              "        [2],\n",
              "        [2]],\n",
              "\n",
              "       [[5],\n",
              "        [3],\n",
              "        [5]]])"
            ]
          },
          "metadata": {},
          "execution_count": 42
        }
      ]
    },
    {
      "cell_type": "code",
      "source": [
        "\n",
        "a = np.random.randint(2,20,(2,3,3))\n",
        "print(a)\n",
        "print(a.shape)"
      ],
      "metadata": {
        "colab": {
          "base_uri": "https://localhost:8080/"
        },
        "id": "hwpkrb2HBtko",
        "outputId": "94862dcf-37be-4af4-970b-ac6f999f9ae2"
      },
      "execution_count": 43,
      "outputs": [
        {
          "output_type": "stream",
          "name": "stdout",
          "text": [
            "[[[ 8  6 18]\n",
            "  [14 10 19]\n",
            "  [ 9 18  6]]\n",
            "\n",
            " [[11 11  6]\n",
            "  [ 2 16 10]\n",
            "  [ 8  9 14]]]\n",
            "(2, 3, 3)\n"
          ]
        }
      ]
    },
    {
      "cell_type": "code",
      "source": [
        "np.unique(a)"
      ],
      "metadata": {
        "colab": {
          "base_uri": "https://localhost:8080/"
        },
        "id": "qoMQOiUWBxeB",
        "outputId": "d197b3b2-01af-4fad-bcec-11e74cf95af3"
      },
      "execution_count": 44,
      "outputs": [
        {
          "output_type": "execute_result",
          "data": {
            "text/plain": [
              "array([ 2,  6,  8,  9, 10, 11, 14, 16, 18, 19])"
            ]
          },
          "metadata": {},
          "execution_count": 44
        }
      ]
    },
    {
      "cell_type": "code",
      "source": [
        "np.unique(a,return_counts=True)"
      ],
      "metadata": {
        "colab": {
          "base_uri": "https://localhost:8080/"
        },
        "id": "VnI5RMO6B0WS",
        "outputId": "cf7740fc-7f1d-411f-f367-566b7ccd8146"
      },
      "execution_count": 45,
      "outputs": [
        {
          "output_type": "execute_result",
          "data": {
            "text/plain": [
              "(array([ 2,  6,  8,  9, 10, 11, 14, 16, 18, 19]),\n",
              " array([1, 3, 2, 2, 2, 2, 2, 1, 2, 1]))"
            ]
          },
          "metadata": {},
          "execution_count": 45
        }
      ]
    },
    {
      "cell_type": "code",
      "source": [
        "np.unique(a,return_counts=True,return_index=True)"
      ],
      "metadata": {
        "colab": {
          "base_uri": "https://localhost:8080/"
        },
        "id": "Oks_M_7zB3RF",
        "outputId": "d137ba87-e550-4a7f-e455-98ef72cf8e2a"
      },
      "execution_count": 46,
      "outputs": [
        {
          "output_type": "execute_result",
          "data": {
            "text/plain": [
              "(array([ 2,  6,  8,  9, 10, 11, 14, 16, 18, 19]),\n",
              " array([12,  1,  0,  6,  4,  9,  3, 13,  2,  5]),\n",
              " array([1, 3, 2, 2, 2, 2, 2, 1, 2, 1]))"
            ]
          },
          "metadata": {},
          "execution_count": 46
        }
      ]
    },
    {
      "cell_type": "code",
      "source": [
        "a = [1,2,3]\n",
        "b= a\n",
        "b[0] = 10\n",
        "print(b)\n",
        "print(a)"
      ],
      "metadata": {
        "colab": {
          "base_uri": "https://localhost:8080/"
        },
        "id": "sJmxFF6GB6LT",
        "outputId": "d3de2990-beb8-4483-9c29-7071757ef789"
      },
      "execution_count": 47,
      "outputs": [
        {
          "output_type": "stream",
          "name": "stdout",
          "text": [
            "[10, 2, 3]\n",
            "[10, 2, 3]\n"
          ]
        }
      ]
    },
    {
      "cell_type": "code",
      "source": [
        "a = np.array([2,34,12])\n",
        "b = a\n",
        "b[0] = -999\n",
        "print(b)\n",
        "print(a)"
      ],
      "metadata": {
        "colab": {
          "base_uri": "https://localhost:8080/"
        },
        "id": "jtunHcplCEAl",
        "outputId": "d9da3d64-42b0-4e59-8fb7-1582cbe1cb22"
      },
      "execution_count": 48,
      "outputs": [
        {
          "output_type": "stream",
          "name": "stdout",
          "text": [
            "[-999   34   12]\n",
            "[-999   34   12]\n"
          ]
        }
      ]
    },
    {
      "cell_type": "code",
      "source": [
        "a = np.array([2,34,12])\n",
        "b = a.copy()\n",
        "b[0] = -999\n",
        "print(b)\n",
        "print(a)"
      ],
      "metadata": {
        "colab": {
          "base_uri": "https://localhost:8080/"
        },
        "id": "t8i8HzVXCFD0",
        "outputId": "d8d17e73-86b2-4e2a-bd54-b782c59f84c1"
      },
      "execution_count": 49,
      "outputs": [
        {
          "output_type": "stream",
          "name": "stdout",
          "text": [
            "[-999   34   12]\n",
            "[ 2 34 12]\n"
          ]
        }
      ]
    },
    {
      "cell_type": "code",
      "source": [
        "np.arange(3) + 5"
      ],
      "metadata": {
        "colab": {
          "base_uri": "https://localhost:8080/"
        },
        "id": "RhJeO5IXCJHi",
        "outputId": "b5d01cde-fb78-4eca-83a8-2949d6c0c75b"
      },
      "execution_count": 50,
      "outputs": [
        {
          "output_type": "execute_result",
          "data": {
            "text/plain": [
              "array([5, 6, 7])"
            ]
          },
          "metadata": {},
          "execution_count": 50
        }
      ]
    },
    {
      "cell_type": "code",
      "source": [
        "np.ones((3,3)) + np.arange(3)"
      ],
      "metadata": {
        "colab": {
          "base_uri": "https://localhost:8080/"
        },
        "id": "7vdvaXbMCMME",
        "outputId": "57244213-0974-4f5d-a421-583231d3f251"
      },
      "execution_count": 51,
      "outputs": [
        {
          "output_type": "execute_result",
          "data": {
            "text/plain": [
              "array([[1., 2., 3.],\n",
              "       [1., 2., 3.],\n",
              "       [1., 2., 3.]])"
            ]
          },
          "metadata": {},
          "execution_count": 51
        }
      ]
    },
    {
      "cell_type": "code",
      "source": [
        "np.arange(3).reshape((3,1)) + np.arange(3)"
      ],
      "metadata": {
        "colab": {
          "base_uri": "https://localhost:8080/"
        },
        "id": "pX9oKVt0CQKm",
        "outputId": "1841e682-02ff-4457-f9ea-52f965adf3ab"
      },
      "execution_count": 52,
      "outputs": [
        {
          "output_type": "execute_result",
          "data": {
            "text/plain": [
              "array([[0, 1, 2],\n",
              "       [1, 2, 3],\n",
              "       [2, 3, 4]])"
            ]
          },
          "metadata": {},
          "execution_count": 52
        }
      ]
    },
    {
      "cell_type": "code",
      "source": [
        "np.arange(2)"
      ],
      "metadata": {
        "colab": {
          "base_uri": "https://localhost:8080/"
        },
        "id": "vhLg56sJCTuV",
        "outputId": "6e632c79-c962-41b5-80dd-37e109a2b365"
      },
      "execution_count": 53,
      "outputs": [
        {
          "output_type": "execute_result",
          "data": {
            "text/plain": [
              "array([0, 1])"
            ]
          },
          "metadata": {},
          "execution_count": 53
        }
      ]
    },
    {
      "cell_type": "code",
      "source": [
        "a = np.random.randint(2,6,(2,4))\n",
        "print(a)\n",
        "b = np.random.randint(1,10,(2,2))\n",
        "print(b)"
      ],
      "metadata": {
        "colab": {
          "base_uri": "https://localhost:8080/"
        },
        "id": "dlcpNMohCW_8",
        "outputId": "4ce63059-b2be-49d8-abe3-a8c1f15f576b"
      },
      "execution_count": 54,
      "outputs": [
        {
          "output_type": "stream",
          "name": "stdout",
          "text": [
            "[[5 2 5 5]\n",
            " [3 3 3 5]]\n",
            "[[4 2]\n",
            " [4 4]]\n"
          ]
        }
      ]
    },
    {
      "cell_type": "code",
      "source": [
        "a = np.random.randint(2,6,(2,4))\n",
        "print(a)\n",
        "b = np.random.randint(0,5,(2,4))\n",
        "print(b)"
      ],
      "metadata": {
        "colab": {
          "base_uri": "https://localhost:8080/"
        },
        "id": "PWAip7QoCaxE",
        "outputId": "93fba17c-b286-469b-ee71-37270adf7a9b"
      },
      "execution_count": 55,
      "outputs": [
        {
          "output_type": "stream",
          "name": "stdout",
          "text": [
            "[[5 2 3 2]\n",
            " [5 3 3 2]]\n",
            "[[3 3 1 4]\n",
            " [0 3 1 3]]\n"
          ]
        }
      ]
    },
    {
      "cell_type": "code",
      "source": [
        "np.multiply(a,b)"
      ],
      "metadata": {
        "colab": {
          "base_uri": "https://localhost:8080/"
        },
        "id": "QXxs6J-4Cjae",
        "outputId": "34449482-6db0-420a-a26d-fc13a248ecb9"
      },
      "execution_count": 56,
      "outputs": [
        {
          "output_type": "execute_result",
          "data": {
            "text/plain": [
              "array([[15,  6,  3,  8],\n",
              "       [ 0,  9,  3,  6]])"
            ]
          },
          "metadata": {},
          "execution_count": 56
        }
      ]
    },
    {
      "cell_type": "code",
      "source": [
        "np.divide(a,b)"
      ],
      "metadata": {
        "colab": {
          "base_uri": "https://localhost:8080/"
        },
        "id": "6vyReIXoCmwG",
        "outputId": "7da1d17c-bce4-49f0-aefd-0806c43638ee"
      },
      "execution_count": 57,
      "outputs": [
        {
          "output_type": "stream",
          "name": "stderr",
          "text": [
            "<ipython-input-57-c364992e28ce>:1: RuntimeWarning: divide by zero encountered in divide\n",
            "  np.divide(a,b)\n"
          ]
        },
        {
          "output_type": "execute_result",
          "data": {
            "text/plain": [
              "array([[1.66666667, 0.66666667, 3.        , 0.5       ],\n",
              "       [       inf, 1.        , 3.        , 0.66666667]])"
            ]
          },
          "metadata": {},
          "execution_count": 57
        }
      ]
    },
    {
      "cell_type": "code",
      "source": [
        "a=np.random.randint(5,9,(2,4))\n",
        "print(a)"
      ],
      "metadata": {
        "colab": {
          "base_uri": "https://localhost:8080/"
        },
        "id": "jEWNCys1CqCw",
        "outputId": "4f117354-0555-4478-d479-cdebb8bc5042"
      },
      "execution_count": 58,
      "outputs": [
        {
          "output_type": "stream",
          "name": "stdout",
          "text": [
            "[[6 6 6 7]\n",
            " [7 8 7 8]]\n"
          ]
        }
      ]
    },
    {
      "cell_type": "code",
      "source": [
        "print(np.sum(a))\n",
        "print(np.sum(a,axis = 0))\n",
        "print(np.sum(a,axis = 1))"
      ],
      "metadata": {
        "colab": {
          "base_uri": "https://localhost:8080/"
        },
        "id": "Oz_1aeSUCxve",
        "outputId": "8692dfd6-fb5d-41c3-c9d8-f3ce73b70cb7"
      },
      "execution_count": 59,
      "outputs": [
        {
          "output_type": "stream",
          "name": "stdout",
          "text": [
            "55\n",
            "[13 14 13 15]\n",
            "[25 30]\n"
          ]
        }
      ]
    },
    {
      "cell_type": "code",
      "source": [
        "print(np.min(a))\n",
        "print(np.min(a,axis=1)) #Across Column\n",
        "a =np.random.randint(0,20,(3,3))\n",
        "print(a)"
      ],
      "metadata": {
        "colab": {
          "base_uri": "https://localhost:8080/"
        },
        "id": "6SxONZLaC1h3",
        "outputId": "8c02960f-a3ed-4c26-ea59-1ee3bd0aa694"
      },
      "execution_count": 60,
      "outputs": [
        {
          "output_type": "stream",
          "name": "stdout",
          "text": [
            "6\n",
            "[6 7]\n",
            "[[11 19 14]\n",
            " [ 2  6 16]\n",
            " [ 1 19 10]]\n"
          ]
        }
      ]
    },
    {
      "cell_type": "code",
      "source": [
        "print(np.sort(a,axis=0)) # Ascending"
      ],
      "metadata": {
        "colab": {
          "base_uri": "https://localhost:8080/"
        },
        "id": "R3cY5MxGC4Z5",
        "outputId": "bf290c8f-2fd4-4b16-bcf6-5711cef83c74"
      },
      "execution_count": 61,
      "outputs": [
        {
          "output_type": "stream",
          "name": "stdout",
          "text": [
            "[[ 1  6 10]\n",
            " [ 2 19 14]\n",
            " [11 19 16]]\n"
          ]
        }
      ]
    },
    {
      "cell_type": "code",
      "source": [
        "print(np.sort(a,axis=1))"
      ],
      "metadata": {
        "colab": {
          "base_uri": "https://localhost:8080/"
        },
        "id": "otyXGXiDC7qR",
        "outputId": "f4b97eed-4193-4514-90a8-a1bf7c45d174"
      },
      "execution_count": 62,
      "outputs": [
        {
          "output_type": "stream",
          "name": "stdout",
          "text": [
            "[[11 14 19]\n",
            " [ 2  6 16]\n",
            " [ 1 10 19]]\n"
          ]
        }
      ]
    },
    {
      "cell_type": "code",
      "source": [
        "print(-np.sort(-a,axis=1)) #Descending"
      ],
      "metadata": {
        "colab": {
          "base_uri": "https://localhost:8080/"
        },
        "id": "lNyYCyXHC-Kj",
        "outputId": "7277f214-d1d0-4b36-e483-b773717e6e13"
      },
      "execution_count": 63,
      "outputs": [
        {
          "output_type": "stream",
          "name": "stdout",
          "text": [
            "[[19 14 11]\n",
            " [16  6  2]\n",
            " [19 10  1]]\n"
          ]
        }
      ]
    },
    {
      "cell_type": "code",
      "source": [
        "sum(np.arange(3)*np.arange(3).transpose())"
      ],
      "metadata": {
        "colab": {
          "base_uri": "https://localhost:8080/"
        },
        "id": "u1opwGN9DBPK",
        "outputId": "f7cd15b0-d5fc-4b5f-b340-6d9bce4262ab"
      },
      "execution_count": 64,
      "outputs": [
        {
          "output_type": "execute_result",
          "data": {
            "text/plain": [
              "5"
            ]
          },
          "metadata": {},
          "execution_count": 64
        }
      ]
    }
  ]
}