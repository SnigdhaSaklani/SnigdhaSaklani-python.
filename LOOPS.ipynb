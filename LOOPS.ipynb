{
  "nbformat": 4,
  "nbformat_minor": 0,
  "metadata": {
    "colab": {
      "provenance": [],
      "authorship_tag": "ABX9TyNQ1/MbiJiCEbfnaPHp46DB",
      "include_colab_link": true
    },
    "kernelspec": {
      "name": "python3",
      "display_name": "Python 3"
    },
    "language_info": {
      "name": "python"
    }
  },
  "cells": [
    {
      "cell_type": "markdown",
      "metadata": {
        "id": "view-in-github",
        "colab_type": "text"
      },
      "source": [
        "<a href=\"https://colab.research.google.com/github/SnigdhaSaklani/SnigdhaSaklani-python./blob/main/LOOPS.ipynb\" target=\"_parent\"><img src=\"https://colab.research.google.com/assets/colab-badge.svg\" alt=\"Open In Colab\"/></a>"
      ]
    },
    {
      "cell_type": "code",
      "execution_count": 7,
      "metadata": {
        "id": "w3A7Lf3IK7Rl"
      },
      "outputs": [],
      "source": [
        "#for loop\n",
        "\n",
        "#Consider a list of strings\n",
        "\n",
        "got_houses = ['Stark','Arryn','Baratheon','Tully','Greyjoy','Lannister','Tyrell','Martell','Targaryen']"
      ]
    },
    {
      "cell_type": "code",
      "source": [
        "#A simple for loop to print the houses of GOT universe\n",
        "\n",
        "for house in got_houses:\n",
        "  print(f\"House{house}\")"
      ],
      "metadata": {
        "colab": {
          "base_uri": "https://localhost:8080/"
        },
        "id": "abDvcJATNaUc",
        "outputId": "79a4ae6d-f114-404f-e1bc-e894993b387c"
      },
      "execution_count": 8,
      "outputs": [
        {
          "output_type": "stream",
          "name": "stdout",
          "text": [
            "HouseStark\n",
            "HouseArryn\n",
            "HouseBaratheon\n",
            "HouseTully\n",
            "HouseGreyjoy\n",
            "HouseLannister\n",
            "HouseTyrell\n",
            "HouseMartell\n",
            "HouseTargaryen\n"
          ]
        }
      ]
    },
    {
      "cell_type": "code",
      "source": [
        "got_houses"
      ],
      "metadata": {
        "colab": {
          "base_uri": "https://localhost:8080/"
        },
        "id": "UDI2VYG1ju5J",
        "outputId": "9f402565-1f47-4e00-fdde-6adc0e13cb99"
      },
      "execution_count": 9,
      "outputs": [
        {
          "output_type": "execute_result",
          "data": {
            "text/plain": [
              "['Stark',\n",
              " 'Arryn',\n",
              " 'Baratheon',\n",
              " 'Tully',\n",
              " 'Greyjoy',\n",
              " 'Lannister',\n",
              " 'Tyrell',\n",
              " 'Martell',\n",
              " 'Targaryen']"
            ]
          },
          "metadata": {},
          "execution_count": 9
        }
      ]
    },
    {
      "cell_type": "code",
      "source": [
        "x = 1,2\n",
        "x"
      ],
      "metadata": {
        "colab": {
          "base_uri": "https://localhost:8080/"
        },
        "id": "6StMtWsvkDYI",
        "outputId": "cbbf37d3-e130-4554-a58f-d75f5ded4f2d"
      },
      "execution_count": 10,
      "outputs": [
        {
          "output_type": "execute_result",
          "data": {
            "text/plain": [
              "(1, 2)"
            ]
          },
          "metadata": {},
          "execution_count": 10
        }
      ]
    },
    {
      "cell_type": "code",
      "source": [
        "list(enumerate(got_houses))"
      ],
      "metadata": {
        "colab": {
          "base_uri": "https://localhost:8080/"
        },
        "id": "zsqsWYrWkOe6",
        "outputId": "e502b0b7-f414-4508-db25-6651920e11ef"
      },
      "execution_count": 13,
      "outputs": [
        {
          "output_type": "execute_result",
          "data": {
            "text/plain": [
              "[(0, 'Stark'),\n",
              " (1, 'Arryn'),\n",
              " (2, 'Baratheon'),\n",
              " (3, 'Tully'),\n",
              " (4, 'Greyjoy'),\n",
              " (5, 'Lannister'),\n",
              " (6, 'Tyrell'),\n",
              " (7, 'Martell'),\n",
              " (8, 'Targaryen')]"
            ]
          },
          "metadata": {},
          "execution_count": 13
        }
      ]
    },
    {
      "cell_type": "code",
      "source": [
        "list(range(10))"
      ],
      "metadata": {
        "colab": {
          "base_uri": "https://localhost:8080/"
        },
        "id": "mvUsgTq2kaEO",
        "outputId": "3953b334-2fd8-4f25-8c00-3e6f11d9498c"
      },
      "execution_count": 15,
      "outputs": [
        {
          "output_type": "execute_result",
          "data": {
            "text/plain": [
              "[0, 1, 2, 3, 4, 5, 6, 7, 8, 9]"
            ]
          },
          "metadata": {},
          "execution_count": 15
        }
      ]
    },
    {
      "cell_type": "code",
      "source": [
        "for i in range(2,21,2):\n",
        "      print(i)"
      ],
      "metadata": {
        "colab": {
          "base_uri": "https://localhost:8080/"
        },
        "id": "n1uf7nNDkc4b",
        "outputId": "f7f29d0f-3dfe-421b-ae36-a5f0ea203761"
      },
      "execution_count": 16,
      "outputs": [
        {
          "output_type": "stream",
          "name": "stdout",
          "text": [
            "2\n",
            "4\n",
            "6\n",
            "8\n",
            "10\n",
            "12\n",
            "14\n",
            "16\n",
            "18\n",
            "20\n"
          ]
        }
      ]
    },
    {
      "cell_type": "code",
      "source": [
        "heisenberg_quote = \"It ceases to exist without me. No, you clearly don't know who you're talking to, so let me clue you in. I am not in danger\"\n",
        "words_by_walter = heisenberg_quote.split()\n",
        "print(words_by_walter)"
      ],
      "metadata": {
        "colab": {
          "base_uri": "https://localhost:8080/"
        },
        "id": "DwARPWtBkgOA",
        "outputId": "c227a3ec-67f0-46df-fa7d-6df4d8fc1dca"
      },
      "execution_count": 17,
      "outputs": [
        {
          "output_type": "stream",
          "name": "stdout",
          "text": [
            "['It', 'ceases', 'to', 'exist', 'without', 'me.', 'No,', 'you', 'clearly', \"don't\", 'know', 'who', \"you're\", 'talking', 'to,', 'so', 'let', 'me', 'clue', 'you', 'in.', 'I', 'am', 'not', 'in', 'danger']\n"
          ]
        }
      ]
    },
    {
      "cell_type": "code",
      "source": [
        "for index,char in enumerate(heisenberg_quote):\n",
        "    print(f\"The index is {index} and the character is {char}\")"
      ],
      "metadata": {
        "colab": {
          "base_uri": "https://localhost:8080/"
        },
        "id": "MFWvjJUwkkEu",
        "outputId": "a2b2bd47-de6b-4f29-d650-98baf3a39aab"
      },
      "execution_count": 18,
      "outputs": [
        {
          "output_type": "stream",
          "name": "stdout",
          "text": [
            "The index is 0 and the character is I\n",
            "The index is 1 and the character is t\n",
            "The index is 2 and the character is  \n",
            "The index is 3 and the character is c\n",
            "The index is 4 and the character is e\n",
            "The index is 5 and the character is a\n",
            "The index is 6 and the character is s\n",
            "The index is 7 and the character is e\n",
            "The index is 8 and the character is s\n",
            "The index is 9 and the character is  \n",
            "The index is 10 and the character is t\n",
            "The index is 11 and the character is o\n",
            "The index is 12 and the character is  \n",
            "The index is 13 and the character is e\n",
            "The index is 14 and the character is x\n",
            "The index is 15 and the character is i\n",
            "The index is 16 and the character is s\n",
            "The index is 17 and the character is t\n",
            "The index is 18 and the character is  \n",
            "The index is 19 and the character is w\n",
            "The index is 20 and the character is i\n",
            "The index is 21 and the character is t\n",
            "The index is 22 and the character is h\n",
            "The index is 23 and the character is o\n",
            "The index is 24 and the character is u\n",
            "The index is 25 and the character is t\n",
            "The index is 26 and the character is  \n",
            "The index is 27 and the character is m\n",
            "The index is 28 and the character is e\n",
            "The index is 29 and the character is .\n",
            "The index is 30 and the character is  \n",
            "The index is 31 and the character is N\n",
            "The index is 32 and the character is o\n",
            "The index is 33 and the character is ,\n",
            "The index is 34 and the character is  \n",
            "The index is 35 and the character is y\n",
            "The index is 36 and the character is o\n",
            "The index is 37 and the character is u\n",
            "The index is 38 and the character is  \n",
            "The index is 39 and the character is c\n",
            "The index is 40 and the character is l\n",
            "The index is 41 and the character is e\n",
            "The index is 42 and the character is a\n",
            "The index is 43 and the character is r\n",
            "The index is 44 and the character is l\n",
            "The index is 45 and the character is y\n",
            "The index is 46 and the character is  \n",
            "The index is 47 and the character is d\n",
            "The index is 48 and the character is o\n",
            "The index is 49 and the character is n\n",
            "The index is 50 and the character is '\n",
            "The index is 51 and the character is t\n",
            "The index is 52 and the character is  \n",
            "The index is 53 and the character is k\n",
            "The index is 54 and the character is n\n",
            "The index is 55 and the character is o\n",
            "The index is 56 and the character is w\n",
            "The index is 57 and the character is  \n",
            "The index is 58 and the character is w\n",
            "The index is 59 and the character is h\n",
            "The index is 60 and the character is o\n",
            "The index is 61 and the character is  \n",
            "The index is 62 and the character is y\n",
            "The index is 63 and the character is o\n",
            "The index is 64 and the character is u\n",
            "The index is 65 and the character is '\n",
            "The index is 66 and the character is r\n",
            "The index is 67 and the character is e\n",
            "The index is 68 and the character is  \n",
            "The index is 69 and the character is t\n",
            "The index is 70 and the character is a\n",
            "The index is 71 and the character is l\n",
            "The index is 72 and the character is k\n",
            "The index is 73 and the character is i\n",
            "The index is 74 and the character is n\n",
            "The index is 75 and the character is g\n",
            "The index is 76 and the character is  \n",
            "The index is 77 and the character is t\n",
            "The index is 78 and the character is o\n",
            "The index is 79 and the character is ,\n",
            "The index is 80 and the character is  \n",
            "The index is 81 and the character is s\n",
            "The index is 82 and the character is o\n",
            "The index is 83 and the character is  \n",
            "The index is 84 and the character is l\n",
            "The index is 85 and the character is e\n",
            "The index is 86 and the character is t\n",
            "The index is 87 and the character is  \n",
            "The index is 88 and the character is m\n",
            "The index is 89 and the character is e\n",
            "The index is 90 and the character is  \n",
            "The index is 91 and the character is c\n",
            "The index is 92 and the character is l\n",
            "The index is 93 and the character is u\n",
            "The index is 94 and the character is e\n",
            "The index is 95 and the character is  \n",
            "The index is 96 and the character is y\n",
            "The index is 97 and the character is o\n",
            "The index is 98 and the character is u\n",
            "The index is 99 and the character is  \n",
            "The index is 100 and the character is i\n",
            "The index is 101 and the character is n\n",
            "The index is 102 and the character is .\n",
            "The index is 103 and the character is  \n",
            "The index is 104 and the character is I\n",
            "The index is 105 and the character is  \n",
            "The index is 106 and the character is a\n",
            "The index is 107 and the character is m\n",
            "The index is 108 and the character is  \n",
            "The index is 109 and the character is n\n",
            "The index is 110 and the character is o\n",
            "The index is 111 and the character is t\n",
            "The index is 112 and the character is  \n",
            "The index is 113 and the character is i\n",
            "The index is 114 and the character is n\n",
            "The index is 115 and the character is  \n",
            "The index is 116 and the character is d\n",
            "The index is 117 and the character is a\n",
            "The index is 118 and the character is n\n",
            "The index is 119 and the character is g\n",
            "The index is 120 and the character is e\n",
            "The index is 121 and the character is r\n"
          ]
        }
      ]
    },
    {
      "cell_type": "code",
      "source": [
        "for index,char in enumerate(heisenberg_quote):\n",
        "    print(f\"The index is {index} and the character is {char}\")"
      ],
      "metadata": {
        "colab": {
          "base_uri": "https://localhost:8080/"
        },
        "id": "MGChYzi8kpKQ",
        "outputId": "c3fa74cd-7197-4b30-d7fe-093e53657360"
      },
      "execution_count": 19,
      "outputs": [
        {
          "output_type": "stream",
          "name": "stdout",
          "text": [
            "The index is 0 and the character is I\n",
            "The index is 1 and the character is t\n",
            "The index is 2 and the character is  \n",
            "The index is 3 and the character is c\n",
            "The index is 4 and the character is e\n",
            "The index is 5 and the character is a\n",
            "The index is 6 and the character is s\n",
            "The index is 7 and the character is e\n",
            "The index is 8 and the character is s\n",
            "The index is 9 and the character is  \n",
            "The index is 10 and the character is t\n",
            "The index is 11 and the character is o\n",
            "The index is 12 and the character is  \n",
            "The index is 13 and the character is e\n",
            "The index is 14 and the character is x\n",
            "The index is 15 and the character is i\n",
            "The index is 16 and the character is s\n",
            "The index is 17 and the character is t\n",
            "The index is 18 and the character is  \n",
            "The index is 19 and the character is w\n",
            "The index is 20 and the character is i\n",
            "The index is 21 and the character is t\n",
            "The index is 22 and the character is h\n",
            "The index is 23 and the character is o\n",
            "The index is 24 and the character is u\n",
            "The index is 25 and the character is t\n",
            "The index is 26 and the character is  \n",
            "The index is 27 and the character is m\n",
            "The index is 28 and the character is e\n",
            "The index is 29 and the character is .\n",
            "The index is 30 and the character is  \n",
            "The index is 31 and the character is N\n",
            "The index is 32 and the character is o\n",
            "The index is 33 and the character is ,\n",
            "The index is 34 and the character is  \n",
            "The index is 35 and the character is y\n",
            "The index is 36 and the character is o\n",
            "The index is 37 and the character is u\n",
            "The index is 38 and the character is  \n",
            "The index is 39 and the character is c\n",
            "The index is 40 and the character is l\n",
            "The index is 41 and the character is e\n",
            "The index is 42 and the character is a\n",
            "The index is 43 and the character is r\n",
            "The index is 44 and the character is l\n",
            "The index is 45 and the character is y\n",
            "The index is 46 and the character is  \n",
            "The index is 47 and the character is d\n",
            "The index is 48 and the character is o\n",
            "The index is 49 and the character is n\n",
            "The index is 50 and the character is '\n",
            "The index is 51 and the character is t\n",
            "The index is 52 and the character is  \n",
            "The index is 53 and the character is k\n",
            "The index is 54 and the character is n\n",
            "The index is 55 and the character is o\n",
            "The index is 56 and the character is w\n",
            "The index is 57 and the character is  \n",
            "The index is 58 and the character is w\n",
            "The index is 59 and the character is h\n",
            "The index is 60 and the character is o\n",
            "The index is 61 and the character is  \n",
            "The index is 62 and the character is y\n",
            "The index is 63 and the character is o\n",
            "The index is 64 and the character is u\n",
            "The index is 65 and the character is '\n",
            "The index is 66 and the character is r\n",
            "The index is 67 and the character is e\n",
            "The index is 68 and the character is  \n",
            "The index is 69 and the character is t\n",
            "The index is 70 and the character is a\n",
            "The index is 71 and the character is l\n",
            "The index is 72 and the character is k\n",
            "The index is 73 and the character is i\n",
            "The index is 74 and the character is n\n",
            "The index is 75 and the character is g\n",
            "The index is 76 and the character is  \n",
            "The index is 77 and the character is t\n",
            "The index is 78 and the character is o\n",
            "The index is 79 and the character is ,\n",
            "The index is 80 and the character is  \n",
            "The index is 81 and the character is s\n",
            "The index is 82 and the character is o\n",
            "The index is 83 and the character is  \n",
            "The index is 84 and the character is l\n",
            "The index is 85 and the character is e\n",
            "The index is 86 and the character is t\n",
            "The index is 87 and the character is  \n",
            "The index is 88 and the character is m\n",
            "The index is 89 and the character is e\n",
            "The index is 90 and the character is  \n",
            "The index is 91 and the character is c\n",
            "The index is 92 and the character is l\n",
            "The index is 93 and the character is u\n",
            "The index is 94 and the character is e\n",
            "The index is 95 and the character is  \n",
            "The index is 96 and the character is y\n",
            "The index is 97 and the character is o\n",
            "The index is 98 and the character is u\n",
            "The index is 99 and the character is  \n",
            "The index is 100 and the character is i\n",
            "The index is 101 and the character is n\n",
            "The index is 102 and the character is .\n",
            "The index is 103 and the character is  \n",
            "The index is 104 and the character is I\n",
            "The index is 105 and the character is  \n",
            "The index is 106 and the character is a\n",
            "The index is 107 and the character is m\n",
            "The index is 108 and the character is  \n",
            "The index is 109 and the character is n\n",
            "The index is 110 and the character is o\n",
            "The index is 111 and the character is t\n",
            "The index is 112 and the character is  \n",
            "The index is 113 and the character is i\n",
            "The index is 114 and the character is n\n",
            "The index is 115 and the character is  \n",
            "The index is 116 and the character is d\n",
            "The index is 117 and the character is a\n",
            "The index is 118 and the character is n\n",
            "The index is 119 and the character is g\n",
            "The index is 120 and the character is e\n",
            "The index is 121 and the character is r\n"
          ]
        }
      ]
    },
    {
      "cell_type": "code",
      "source": [
        "country_city_river_list = [('India','New Delhi','Ganga',),('Australia','Canberra','Rovers'),('United States','Wahington DC','Missouri'),('England','London','Thames')]\n",
        "for country,city,river in country_city_river_list:\n",
        "  print(f\"The capital of {country} is {city} and it also has the river {river}.\")"
      ],
      "metadata": {
        "colab": {
          "base_uri": "https://localhost:8080/"
        },
        "id": "-dWlZ7ldkulE",
        "outputId": "0dc12b69-a221-4c39-f122-30aea0815c02"
      },
      "execution_count": 20,
      "outputs": [
        {
          "output_type": "stream",
          "name": "stdout",
          "text": [
            "The capital of India is New Delhi and it also has the river Ganga.\n",
            "The capital of Australia is Canberra and it also has the river Rovers.\n",
            "The capital of United States is Wahington DC and it also has the river Missouri.\n",
            "The capital of England is London and it also has the river Thames.\n"
          ]
        }
      ]
    },
    {
      "cell_type": "code",
      "source": [
        "for word in words_by_walter:\n",
        "    if word in ['I','me.']:\n",
        "         print(f\"The word is {word}\")"
      ],
      "metadata": {
        "colab": {
          "base_uri": "https://localhost:8080/"
        },
        "id": "8NeUnLZEkzFI",
        "outputId": "2a71d128-92fe-4801-efba-62bc8c31f0ae"
      },
      "execution_count": 21,
      "outputs": [
        {
          "output_type": "stream",
          "name": "stdout",
          "text": [
            "The word is me.\n",
            "The word is I\n"
          ]
        }
      ]
    },
    {
      "cell_type": "code",
      "source": [
        "days = ('Monday', 'Tuesday', 'Wednesday', 'Thursday', 'Friday', 'Saturday', 'Sunday')\n",
        "for day in days:\n",
        "  print(f\"Today is {day}\")"
      ],
      "metadata": {
        "colab": {
          "base_uri": "https://localhost:8080/"
        },
        "id": "JdmFPkJ0k3KK",
        "outputId": "e7b7ac36-5a4c-4028-b82f-bd026f94a507"
      },
      "execution_count": 22,
      "outputs": [
        {
          "output_type": "stream",
          "name": "stdout",
          "text": [
            "Today is Monday\n",
            "Today is Tuesday\n",
            "Today is Wednesday\n",
            "Today is Thursday\n",
            "Today is Friday\n",
            "Today is Saturday\n",
            "Today is Sunday\n"
          ]
        }
      ]
    },
    {
      "cell_type": "code",
      "source": [
        "for elem in {1,2,3}:\n",
        "    print(elem)"
      ],
      "metadata": {
        "colab": {
          "base_uri": "https://localhost:8080/"
        },
        "id": "1jsg2hbEk6N4",
        "outputId": "8b33757b-afff-4ad9-a32b-a5f32e4c3497"
      },
      "execution_count": 23,
      "outputs": [
        {
          "output_type": "stream",
          "name": "stdout",
          "text": [
            "1\n",
            "2\n",
            "3\n"
          ]
        }
      ]
    },
    {
      "cell_type": "code",
      "source": [
        "country_city_dict = {1:\"India\",2:\"USA\"}\n",
        "for item in country_city_dict:\n",
        "  print(item,country_city_dict[item])"
      ],
      "metadata": {
        "colab": {
          "base_uri": "https://localhost:8080/"
        },
        "id": "dPssQi3Gk9Ol",
        "outputId": "874b19a8-a7a4-48bd-8ca2-b995c6b26076"
      },
      "execution_count": 24,
      "outputs": [
        {
          "output_type": "stream",
          "name": "stdout",
          "text": [
            "1 India\n",
            "2 USA\n"
          ]
        }
      ]
    },
    {
      "cell_type": "code",
      "source": [
        "for country, city in country_city_dict.items():\n",
        "    print(f\"The capital of {country} is {city}\")"
      ],
      "metadata": {
        "colab": {
          "base_uri": "https://localhost:8080/"
        },
        "id": "CC3BuVIxlBrU",
        "outputId": "43b1a591-b709-4587-b8e7-b151cf80af73"
      },
      "execution_count": 25,
      "outputs": [
        {
          "output_type": "stream",
          "name": "stdout",
          "text": [
            "The capital of 1 is India\n",
            "The capital of 2 is USA\n"
          ]
        }
      ]
    }
  ]
}