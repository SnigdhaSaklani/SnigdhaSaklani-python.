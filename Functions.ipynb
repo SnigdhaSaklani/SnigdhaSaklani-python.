{
  "nbformat": 4,
  "nbformat_minor": 0,
  "metadata": {
    "colab": {
      "provenance": [],
      "authorship_tag": "ABX9TyPBiPxwze0VWIbbpU5znzGK",
      "include_colab_link": true
    },
    "kernelspec": {
      "name": "python3",
      "display_name": "Python 3"
    },
    "language_info": {
      "name": "python"
    }
  },
  "cells": [
    {
      "cell_type": "markdown",
      "metadata": {
        "id": "view-in-github",
        "colab_type": "text"
      },
      "source": [
        "<a href=\"https://colab.research.google.com/github/SnigdhaSaklani/SnigdhaSaklani-python./blob/main/Functions.ipynb\" target=\"_parent\"><img src=\"https://colab.research.google.com/assets/colab-badge.svg\" alt=\"Open In Colab\"/></a>"
      ]
    },
    {
      "cell_type": "code",
      "execution_count": 1,
      "metadata": {
        "colab": {
          "base_uri": "https://localhost:8080/"
        },
        "id": "aw-yqRlSz6-c",
        "outputId": "317edf17-867e-4c17-dec8-77d34929fb9e"
      },
      "outputs": [
        {
          "output_type": "stream",
          "name": "stdout",
          "text": [
            "['I', 'c', 't', 'e', 'w', 'm', 'N', 'y', 'c', 'd', 'k', 'w', 'y', 't', 't', 's', 'l', 'm', 'c', 'y', 'i', 'I', 'a', 'n', 'i', 'd']\n"
          ]
        }
      ],
      "source": [
        "heisenberg_quote = \"It creates to exist without me. No, you clearly don't know who you're talking to, so let me clue you in. I am not in danger.\"\n",
        "\n",
        "words_by_walter = heisenberg_quote.split(' ')\n",
        "\n",
        "first_letters = [word[0] for word in words_by_walter]\n",
        "print(first_letters)"
      ]
    },
    {
      "cell_type": "code",
      "source": [
        "def extract_first_letters(sentence):\n",
        "  words_in_sentence = sentence.split(' ')\n",
        "  first_letters = [word[0] for word in words_in_sentence]\n",
        "  return first_letters\n",
        "  print(extract_first_letters(heisenberg_quote))"
      ],
      "metadata": {
        "id": "wiKpDhfR2sJ4"
      },
      "execution_count": 11,
      "outputs": []
    },
    {
      "cell_type": "code",
      "source": [
        "#Function for calculating factorial of a number\n",
        "def factorial(num):\n",
        "  result = 1\n",
        "  if num < 0:\n",
        "    print(\"factorial is not defined for negative numbers\")\n",
        "  elif (num> 0):\n",
        "    for i in range(1, num+1):\n",
        "            result = result * i\n",
        "    print(f\"the factorial of {num} is {result}\")\n",
        "  else:\n",
        "              result = 1\n",
        "              print('factorial of 0 is ',result)\n",
        "\n",
        "factorial(5)"
      ],
      "metadata": {
        "colab": {
          "base_uri": "https://localhost:8080/"
        },
        "id": "D4UcQCHm2_g3",
        "outputId": "b153e5a3-85d0-4a7b-d36e-8a4eb62da69b"
      },
      "execution_count": 13,
      "outputs": [
        {
          "output_type": "stream",
          "name": "stdout",
          "text": [
            "the factorial of 5 is 120\n"
          ]
        }
      ]
    },
    {
      "cell_type": "code",
      "source": [
        "#Now let us define a list of numbers for which we want to calculate the factorials\n",
        "list_of_numbers = [1,2,3,4,5,6,7]"
      ],
      "metadata": {
        "id": "pdkppy6U3CVG"
      },
      "execution_count": 15,
      "outputs": []
    },
    {
      "cell_type": "code",
      "source": [
        "#We can write a list comprehension for the same task\n",
        "list_of_numbers = [1,2,3,4,5,6,7]\n",
        "factorial_list = [factorial(number) for number in list_of_numbers if number%2!=0]\n",
        "print(factorial_list)"
      ],
      "metadata": {
        "colab": {
          "base_uri": "https://localhost:8080/"
        },
        "id": "441QtPFH3HTn",
        "outputId": "7f9aa756-3b20-451a-c054-2f28b6f5d5f9"
      },
      "execution_count": 16,
      "outputs": [
        {
          "output_type": "stream",
          "name": "stdout",
          "text": [
            "the factorial of 1 is 1\n",
            "the factorial of 3 is 6\n",
            "the factorial of 5 is 120\n",
            "the factorial of 7 is 5040\n",
            "[None, None, None, None]\n"
          ]
        }
      ]
    },
    {
      "cell_type": "code",
      "source": [
        "def assignQuarter(user_date):\n",
        "  date_year = user_date[:4]\n",
        "  date_month = user_date[5:7]\n",
        "\n",
        "  if (date_month >= '01') & (date_month <= '03'):\n",
        "    quarter = date_year + '-Q1'\n",
        "  elif (date_month >= '04') & (date_month <='06'):\n",
        "      quarter = date_year + '-Q2'\n",
        "  elif (date_month >= '07') & (date_month <= '09'):\n",
        "    quarter = date_year + '-Q3'\n",
        "  else:\n",
        "    quarter = date_year + '-Q4'\n",
        "  return quarter"
      ],
      "metadata": {
        "id": "7NJ4iR3a3MUs"
      },
      "execution_count": 18,
      "outputs": []
    },
    {
      "cell_type": "code",
      "source": [
        "sample_date = '2020-07-01'\n",
        "date_quarter = assignQuarter(sample_date)\n",
        "print(date_quarter)"
      ],
      "metadata": {
        "colab": {
          "base_uri": "https://localhost:8080/"
        },
        "id": "AzQfzjRd5K6P",
        "outputId": "c595e951-e35f-4f98-cb21-f3ac584312bc"
      },
      "execution_count": 20,
      "outputs": [
        {
          "output_type": "stream",
          "name": "stdout",
          "text": [
            "2020-Q3\n"
          ]
        }
      ]
    },
    {
      "cell_type": "code",
      "source": [
        "my_quarter = assignQuarter('2020-07-01')\n",
        "print(my_quarter)"
      ],
      "metadata": {
        "colab": {
          "base_uri": "https://localhost:8080/"
        },
        "id": "XgfKVK1p5W3v",
        "outputId": "d8cb8cb2-3407-4c29-c1c7-59615441d21a"
      },
      "execution_count": 21,
      "outputs": [
        {
          "output_type": "stream",
          "name": "stdout",
          "text": [
            "2020-Q3\n"
          ]
        }
      ]
    },
    {
      "cell_type": "code",
      "source": [
        "#Functoin with multiple return statements\n",
        "def check_even_or_odd(num):\n",
        "  print(f\"given number is {num}\")\n",
        "\n",
        "  if num%2 ==0:\n",
        "    return 'even'\n",
        "  return 'odd'\n",
        "\n",
        "is_even_odd = check_even_or_odd(10)\n",
        "print(is_even_odd)"
      ],
      "metadata": {
        "colab": {
          "base_uri": "https://localhost:8080/"
        },
        "id": "eexnEsx85q92",
        "outputId": "9eac345b-a7d2-431a-ddde-ffcdf8a3c0a3"
      },
      "execution_count": 23,
      "outputs": [
        {
          "output_type": "stream",
          "name": "stdout",
          "text": [
            "given number is 10\n",
            "even\n"
          ]
        }
      ]
    },
    {
      "cell_type": "code",
      "source": [
        "#Function which adds an element to list\n",
        "def list_append(my_list, elem):\n",
        "  new_list = my_list + [elem]\n",
        "  return new_list"
      ],
      "metadata": {
        "id": "pHE55kAJ50_F"
      },
      "execution_count": 24,
      "outputs": []
    },
    {
      "cell_type": "code",
      "source": [
        "heights = [150,160,170,180,190,200]\n",
        "list_append(heights, 190)"
      ],
      "metadata": {
        "colab": {
          "base_uri": "https://localhost:8080/"
        },
        "id": "ipKR1HcR6EVe",
        "outputId": "454de0a6-ae2f-4e40-d507-4c2afe9a9071"
      },
      "execution_count": 26,
      "outputs": [
        {
          "output_type": "execute_result",
          "data": {
            "text/plain": [
              "[150, 160, 170, 180, 190, 200, 190]"
            ]
          },
          "metadata": {},
          "execution_count": 26
        }
      ]
    },
    {
      "cell_type": "code",
      "source": [
        "list_append(heights, elem = 40)"
      ],
      "metadata": {
        "colab": {
          "base_uri": "https://localhost:8080/"
        },
        "id": "tuCq8yBN6OkD",
        "outputId": "963b159a-06d0-443d-9972-cddcb518e9f3"
      },
      "execution_count": 28,
      "outputs": [
        {
          "output_type": "execute_result",
          "data": {
            "text/plain": [
              "[150, 160, 170, 180, 190, 200, 40]"
            ]
          },
          "metadata": {},
          "execution_count": 28
        }
      ]
    },
    {
      "cell_type": "code",
      "source": [
        "heights.append(60)"
      ],
      "metadata": {
        "id": "nFqro_J56ULx"
      },
      "execution_count": 29,
      "outputs": []
    },
    {
      "cell_type": "code",
      "source": [
        "print(heights)"
      ],
      "metadata": {
        "colab": {
          "base_uri": "https://localhost:8080/"
        },
        "id": "9XYtKYlY6a2i",
        "outputId": "f21cb78e-d2fc-4118-8fa3-f006799b330b"
      },
      "execution_count": 30,
      "outputs": [
        {
          "output_type": "stream",
          "name": "stdout",
          "text": [
            "[150, 160, 170, 180, 190, 200, 60]\n"
          ]
        }
      ]
    },
    {
      "cell_type": "code",
      "source": [
        "#Scope\n",
        "def experiment():\n",
        "  global x\n",
        "  x = 50\n",
        "  return x"
      ],
      "metadata": {
        "id": "CgUVXODP6dpa"
      },
      "execution_count": 32,
      "outputs": []
    },
    {
      "cell_type": "code",
      "source": [
        "experiment()"
      ],
      "metadata": {
        "colab": {
          "base_uri": "https://localhost:8080/"
        },
        "id": "ZMfqaT8S6w0U",
        "outputId": "80d74c4c-7037-4557-b279-d86c57cf5c73"
      },
      "execution_count": 33,
      "outputs": [
        {
          "output_type": "execute_result",
          "data": {
            "text/plain": [
              "50"
            ]
          },
          "metadata": {},
          "execution_count": 33
        }
      ]
    },
    {
      "cell_type": "code",
      "source": [
        "def new_experiment():\n",
        "  x = 50\n",
        "  return x\n",
        "x = 40"
      ],
      "metadata": {
        "id": "_RKGGWkm6xvb"
      },
      "execution_count": 34,
      "outputs": []
    },
    {
      "cell_type": "code",
      "source": [
        "new_experiment()"
      ],
      "metadata": {
        "colab": {
          "base_uri": "https://localhost:8080/"
        },
        "id": "_tvAWilI62iP",
        "outputId": "5b7ffc07-87a1-460d-b7fd-39033e1a08ba"
      },
      "execution_count": 35,
      "outputs": [
        {
          "output_type": "execute_result",
          "data": {
            "text/plain": [
              "50"
            ]
          },
          "metadata": {},
          "execution_count": 35
        }
      ]
    },
    {
      "cell_type": "code",
      "source": [
        "x"
      ],
      "metadata": {
        "colab": {
          "base_uri": "https://localhost:8080/"
        },
        "id": "DtvkR64f65w9",
        "outputId": "8568b883-0888-4e6d-9793-0a5ae1c6c241"
      },
      "execution_count": 36,
      "outputs": [
        {
          "output_type": "execute_result",
          "data": {
            "text/plain": [
              "40"
            ]
          },
          "metadata": {},
          "execution_count": 36
        }
      ]
    }
  ]
}