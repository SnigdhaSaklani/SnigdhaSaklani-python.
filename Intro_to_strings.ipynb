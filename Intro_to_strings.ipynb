{
  "nbformat": 4,
  "nbformat_minor": 0,
  "metadata": {
    "colab": {
      "provenance": [],
      "authorship_tag": "ABX9TyM+xATXdnr3sheqibla13Nm",
      "include_colab_link": true
    },
    "kernelspec": {
      "name": "python3",
      "display_name": "Python 3"
    },
    "language_info": {
      "name": "python"
    }
  },
  "cells": [
    {
      "cell_type": "markdown",
      "metadata": {
        "id": "view-in-github",
        "colab_type": "text"
      },
      "source": [
        "<a href=\"https://colab.research.google.com/github/SnigdhaSaklani/SnigdhaSaklani-python./blob/main/Intro_to_strings.ipynb\" target=\"_parent\"><img src=\"https://colab.research.google.com/assets/colab-badge.svg\" alt=\"Open In Colab\"/></a>"
      ]
    },
    {
      "cell_type": "code",
      "execution_count": null,
      "metadata": {
        "colab": {
          "base_uri": "https://localhost:8080/"
        },
        "id": "Hoz2F_CtXJB8",
        "outputId": "2814cea1-2818-4da1-f424-8c6ad92697b8"
      },
      "outputs": [
        {
          "output_type": "stream",
          "name": "stdout",
          "text": [
            "algebra\n"
          ]
        }
      ],
      "source": [
        "#Single word\n",
        "my_first_string=\"algebra\"\n",
        "print(my_first_string)"
      ]
    },
    {
      "cell_type": "code",
      "source": [
        "#Entire phrase\n",
        "\n",
        "phrase = 'Statistics sits at the heart of machine learning'\n",
        "\n",
        "print (phrase)"
      ],
      "metadata": {
        "colab": {
          "base_uri": "https://localhost:8080/"
        },
        "id": "c2_ijua_cT1Z",
        "outputId": "d9629187-8f14-439f-cc50-5565587e6378"
      },
      "execution_count": null,
      "outputs": [
        {
          "output_type": "stream",
          "name": "stdout",
          "text": [
            "Statistics sits at the heart of machine learning\n"
          ]
        }
      ]
    },
    {
      "cell_type": "code",
      "source": [
        "\n",
        "#Statement to get the type of the variable\n",
        "\n",
        "type (phrase)"
      ],
      "metadata": {
        "colab": {
          "base_uri": "https://localhost:8080/"
        },
        "id": "8H8sNsMPclMR",
        "outputId": "6ef1c43a-c237-4b73-f00c-3edc9092daa0"
      },
      "execution_count": null,
      "outputs": [
        {
          "output_type": "execute_result",
          "data": {
            "text/plain": [
              "str"
            ]
          },
          "metadata": {},
          "execution_count": 14
        }
      ]
    },
    {
      "cell_type": "code",
      "source": [
        "#We can also use double quote\n",
        "\n",
        "my_string = \"String built with double quotes\"\n",
        "\n",
        "print(my_string) #Use the print command"
      ],
      "metadata": {
        "colab": {
          "base_uri": "https://localhost:8080/"
        },
        "id": "k0hxywyhcqaq",
        "outputId": "727a73e2-9b22-4ab8-bd67-7317ea5d36ad"
      },
      "execution_count": null,
      "outputs": [
        {
          "output_type": "stream",
          "name": "stdout",
          "text": [
            "String built with double quotes\n"
          ]
        }
      ]
    },
    {
      "cell_type": "code",
      "source": [
        "#Be careful with quotes!\n",
        "\n",
        "sentence= 'I\\'m using single quotes, but this will create an error'\n",
        "\n",
        "print(sentence)"
      ],
      "metadata": {
        "colab": {
          "base_uri": "https://localhost:8080/"
        },
        "id": "vEGo1rh5cwie",
        "outputId": "e297e650-afd5-46af-c035-d6944594b4da"
      },
      "execution_count": null,
      "outputs": [
        {
          "output_type": "stream",
          "name": "stdout",
          "text": [
            "I'm using single quotes, but this will create an error\n"
          ]
        }
      ]
    },
    {
      "cell_type": "code",
      "source": [
        "#sentence= \"I\\\"m using single quotes, but this will create an error\"\n",
        "\n",
        "print(sentence)"
      ],
      "metadata": {
        "colab": {
          "base_uri": "https://localhost:8080/"
        },
        "id": "AomGYvWZc3nb",
        "outputId": "74b1362e-e953-46e2-f120-3098b1dc6b06"
      },
      "execution_count": null,
      "outputs": [
        {
          "output_type": "stream",
          "name": "stdout",
          "text": [
            "I'm using single quotes, but this will create an error\n"
          ]
        }
      ]
    },
    {
      "cell_type": "code",
      "source": [
        "hashtag = \"#\"\n",
        "\n",
        "print(hashtag)"
      ],
      "metadata": {
        "colab": {
          "base_uri": "https://localhost:8080/"
        },
        "id": "JPd8T2ppc9Fc",
        "outputId": "794fe394-53ba-4d8b-e938-1091ed844480"
      },
      "execution_count": null,
      "outputs": [
        {
          "output_type": "stream",
          "name": "stdout",
          "text": [
            "#\n"
          ]
        }
      ]
    },
    {
      "cell_type": "code",
      "source": [
        "type(hashtag)"
      ],
      "metadata": {
        "colab": {
          "base_uri": "https://localhost:8080/"
        },
        "id": "12jouyK7c_3G",
        "outputId": "235fea81-069e-4044-d51b-f2e54779b4f6"
      },
      "execution_count": null,
      "outputs": [
        {
          "output_type": "execute_result",
          "data": {
            "text/plain": [
              "str"
            ]
          },
          "metadata": {},
          "execution_count": 19
        }
      ]
    },
    {
      "cell_type": "code",
      "source": [
        "#print('Linear Algebra')\n",
        "\n",
        "#print('Calculus')\n",
        "\n",
        "print('Use to print a new line')\n",
        "\n",
        "print('\\nSee what I mean?')"
      ],
      "metadata": {
        "colab": {
          "base_uri": "https://localhost:8080/"
        },
        "id": "GTxGBs4tdCTI",
        "outputId": "3938122a-80d1-43f4-dbb3-16450d357c50"
      },
      "execution_count": null,
      "outputs": [
        {
          "output_type": "stream",
          "name": "stdout",
          "text": [
            "Use to print a new line\n",
            "\n",
            "See what I mean?\n"
          ]
        }
      ]
    },
    {
      "cell_type": "code",
      "source": [
        "algo = 're on'\n",
        "\n",
        "len(algo)"
      ],
      "metadata": {
        "colab": {
          "base_uri": "https://localhost:8080/"
        },
        "id": "s3q5dK7ndKA6",
        "outputId": "a38bbba1-dfd0-448c-8648-40ba313ed089"
      },
      "execution_count": null,
      "outputs": [
        {
          "output_type": "execute_result",
          "data": {
            "text/plain": [
              "5"
            ]
          },
          "metadata": {},
          "execution_count": 22
        }
      ]
    },
    {
      "cell_type": "code",
      "source": [
        "#Assign string as a string\n",
        "\n",
        "string = 'Principal Component Analysis!'"
      ],
      "metadata": {
        "id": "ZuV14dvsdMx-"
      },
      "execution_count": null,
      "outputs": []
    },
    {
      "cell_type": "code",
      "source": [
        "#Print the object\n",
        "\n",
        "print(string)"
      ],
      "metadata": {
        "id": "aMcvgoC_dhTK",
        "outputId": "76a9eef6-8006-423e-af12-3a94b00a52da",
        "colab": {
          "base_uri": "https://localhost:8080/"
        }
      },
      "execution_count": null,
      "outputs": [
        {
          "output_type": "stream",
          "name": "stdout",
          "text": [
            "Principal Component Analysis!\n"
          ]
        }
      ]
    },
    {
      "cell_type": "code",
      "source": [
        "#show first element (in this case a letter)\n",
        "\n",
        "print(string[-2])"
      ],
      "metadata": {
        "id": "keVV-F9cdS5S",
        "colab": {
          "base_uri": "https://localhost:8080/"
        },
        "outputId": "bf224a7d-c55b-4b11-b54c-368ff777f54d"
      },
      "execution_count": null,
      "outputs": [
        {
          "output_type": "stream",
          "name": "stdout",
          "text": [
            "s\n"
          ]
        }
      ]
    },
    {
      "cell_type": "code",
      "source": [
        "print(string[15])"
      ],
      "metadata": {
        "colab": {
          "base_uri": "https://localhost:8080/"
        },
        "id": "z5FyisNld8ps",
        "outputId": "e06f9933-92bb-4be7-8b23-e9d5638f06f0"
      },
      "execution_count": null,
      "outputs": [
        {
          "output_type": "stream",
          "name": "stdout",
          "text": [
            "n\n"
          ]
        }
      ]
    },
    {
      "cell_type": "code",
      "source": [
        "len(string)"
      ],
      "metadata": {
        "colab": {
          "base_uri": "https://localhost:8080/"
        },
        "id": "v3XU7gl1eE-F",
        "outputId": "94f3a702-a586-4236-b132-60eb38c38472"
      },
      "execution_count": null,
      "outputs": [
        {
          "output_type": "execute_result",
          "data": {
            "text/plain": [
              "29"
            ]
          },
          "metadata": {},
          "execution_count": 40
        }
      ]
    },
    {
      "cell_type": "code",
      "source": [
        "#Grab the element at the index 1, which is the LAST element\n",
        "\n",
        "print(string[28])"
      ],
      "metadata": {
        "colab": {
          "base_uri": "https://localhost:8080/"
        },
        "id": "38R-0R-ZeHG2",
        "outputId": "ba390738-eeee-47c4-ccb3-bd4c84244d46"
      },
      "execution_count": null,
      "outputs": [
        {
          "output_type": "stream",
          "name": "stdout",
          "text": [
            "!\n"
          ]
        }
      ]
    },
    {
      "cell_type": "code",
      "source": [
        "print(string[-2])"
      ],
      "metadata": {
        "id": "tMzLx55KeO1J",
        "colab": {
          "base_uri": "https://localhost:8080/"
        },
        "outputId": "15ac23d5-b677-464d-d007-d0894d6550aa"
      },
      "execution_count": null,
      "outputs": [
        {
          "output_type": "stream",
          "name": "stdout",
          "text": [
            "s\n"
          ]
        }
      ]
    },
    {
      "cell_type": "code",
      "source": [
        "#Grab everything past the first term all the way to the length of s which is len(s)\n",
        "\n",
        "print(string)\n",
        "\n",
        "print(string[1:])"
      ],
      "metadata": {
        "colab": {
          "base_uri": "https://localhost:8080/"
        },
        "id": "DTZG0HXwegoe",
        "outputId": "d25a1acd-e418-41ef-c707-9d5546d5961b"
      },
      "execution_count": null,
      "outputs": [
        {
          "output_type": "stream",
          "name": "stdout",
          "text": [
            "Principal Component Analysis!\n",
            "rincipal Component Analysis!\n"
          ]
        }
      ]
    },
    {
      "cell_type": "code",
      "source": [
        "string[13]"
      ],
      "metadata": {
        "colab": {
          "base_uri": "https://localhost:8080/",
          "height": 35
        },
        "id": "Qk96d3LcenLm",
        "outputId": "b5f7f1da-dc20-4581-d495-f113d9cd9d61"
      },
      "execution_count": null,
      "outputs": [
        {
          "output_type": "execute_result",
          "data": {
            "text/plain": [
              "'p'"
            ],
            "application/vnd.google.colaboratory.intrinsic+json": {
              "type": "string"
            }
          },
          "metadata": {},
          "execution_count": 45
        }
      ]
    },
    {
      "cell_type": "code",
      "source": [
        "string[12]"
      ],
      "metadata": {
        "colab": {
          "base_uri": "https://localhost:8080/",
          "height": 35
        },
        "id": "9E4WLlrFerkC",
        "outputId": "15820e20-4f39-400e-b86f-2a0a8a8af5dd"
      },
      "execution_count": null,
      "outputs": [
        {
          "output_type": "execute_result",
          "data": {
            "text/plain": [
              "'m'"
            ],
            "application/vnd.google.colaboratory.intrinsic+json": {
              "type": "string"
            }
          },
          "metadata": {},
          "execution_count": 46
        }
      ]
    },
    {
      "cell_type": "code",
      "source": [
        "#Grab everything starting from index 10 till index 18\n",
        "\n",
        "print(string[10:])"
      ],
      "metadata": {
        "colab": {
          "base_uri": "https://localhost:8080/"
        },
        "id": "l_yBxkMze0qE",
        "outputId": "ab13fe29-5dc6-4f71-917f-63469bc18cb5"
      },
      "execution_count": null,
      "outputs": [
        {
          "output_type": "stream",
          "name": "stdout",
          "text": [
            "Component Analysis!\n"
          ]
        }
      ]
    },
    {
      "cell_type": "code",
      "source": [
        "print(string[3:5])"
      ],
      "metadata": {
        "colab": {
          "base_uri": "https://localhost:8080/"
        },
        "id": "vuPsOYIae6PE",
        "outputId": "2ebd3e5a-6d73-4e32-a7f6-d30202e787d0"
      },
      "execution_count": null,
      "outputs": [
        {
          "output_type": "stream",
          "name": "stdout",
          "text": [
            "nc\n"
          ]
        }
      ]
    },
    {
      "cell_type": "code",
      "source": [
        "print(string[2:4])"
      ],
      "metadata": {
        "colab": {
          "base_uri": "https://localhost:8080/"
        },
        "id": "QLJ2l1PNe9SB",
        "outputId": "4d5dda1d-e847-42ca-ad18-9133b09afeb2"
      },
      "execution_count": null,
      "outputs": [
        {
          "output_type": "stream",
          "name": "stdout",
          "text": [
            "in\n"
          ]
        }
      ]
    },
    {
      "cell_type": "code",
      "source": [
        "#Everything\n",
        "\n",
        "print(string[:])\n",
        "\n",
        "print(string)"
      ],
      "metadata": {
        "colab": {
          "base_uri": "https://localhost:8080/"
        },
        "id": "Ro7ox9isfJEN",
        "outputId": "77e039c0-e908-4710-835b-6192886c7d8a"
      },
      "execution_count": null,
      "outputs": [
        {
          "output_type": "stream",
          "name": "stdout",
          "text": [
            "Principal Component Analysis!\n",
            "Principal Component Analysis!\n"
          ]
        }
      ]
    },
    {
      "cell_type": "code",
      "source": [
        "#Last letter (one index behind so it loops back around)\n",
        "\n",
        "string[-2]"
      ],
      "metadata": {
        "colab": {
          "base_uri": "https://localhost:8080/",
          "height": 35
        },
        "id": "DYKCv7_5fAON",
        "outputId": "21f2b51c-9d3b-4f81-9030-6482082e1940"
      },
      "execution_count": null,
      "outputs": [
        {
          "output_type": "execute_result",
          "data": {
            "text/plain": [
              "'s'"
            ],
            "application/vnd.google.colaboratory.intrinsic+json": {
              "type": "string"
            }
          },
          "metadata": {},
          "execution_count": 52
        }
      ]
    },
    {
      "cell_type": "code",
      "source": [
        "string[-1:-4]"
      ],
      "metadata": {
        "colab": {
          "base_uri": "https://localhost:8080/",
          "height": 35
        },
        "id": "88o4RoL-fNY3",
        "outputId": "c2f3fd78-6a65-447e-86c0-22baedf01d72"
      },
      "execution_count": null,
      "outputs": [
        {
          "output_type": "execute_result",
          "data": {
            "text/plain": [
              "''"
            ],
            "application/vnd.google.colaboratory.intrinsic+json": {
              "type": "string"
            }
          },
          "metadata": {},
          "execution_count": 53
        }
      ]
    },
    {
      "cell_type": "code",
      "source": [
        "#Grab everything, but go in steps size of 1\n",
        "\n",
        "print(string)\n",
        "\n",
        "print(string[::3])"
      ],
      "metadata": {
        "colab": {
          "base_uri": "https://localhost:8080/"
        },
        "id": "CqjRStyNfUbY",
        "outputId": "f4ecb697-de0e-4207-ee54-6e39b9b7a1b5"
      },
      "execution_count": null,
      "outputs": [
        {
          "output_type": "stream",
          "name": "stdout",
          "text": [
            "Principal Component Analysis!\n",
            "Pnp mntnys\n"
          ]
        }
      ]
    },
    {
      "cell_type": "code",
      "source": [
        "print(string[::3])"
      ],
      "metadata": {
        "colab": {
          "base_uri": "https://localhost:8080/"
        },
        "id": "MkjrdZrRfc7y",
        "outputId": "c990f490-0b4b-4179-afe0-3708ce8892c9"
      },
      "execution_count": null,
      "outputs": [
        {
          "output_type": "stream",
          "name": "stdout",
          "text": [
            "Pnp mntnys\n"
          ]
        }
      ]
    },
    {
      "cell_type": "code",
      "source": [
        "#Grab everything, but go in step sizes of 5\n",
        "\n",
        "print(string)\n",
        "\n",
        "print(string[5:15:5])"
      ],
      "metadata": {
        "colab": {
          "base_uri": "https://localhost:8080/"
        },
        "id": "HxHzRVglfgWj",
        "outputId": "c9ddf4f1-6039-4654-aae4-081748ed8b43"
      },
      "execution_count": null,
      "outputs": [
        {
          "output_type": "stream",
          "name": "stdout",
          "text": [
            "Principal Component Analysis!\n",
            "iC\n"
          ]
        }
      ]
    },
    {
      "cell_type": "code",
      "source": [
        "string[::1]"
      ],
      "metadata": {
        "colab": {
          "base_uri": "https://localhost:8080/",
          "height": 53
        },
        "id": "nYfzE54VfkXS",
        "outputId": "189a5399-8f69-495b-d6d8-d2ce061f9840"
      },
      "execution_count": null,
      "outputs": [
        {
          "output_type": "execute_result",
          "data": {
            "text/plain": [
              "'Principal Component Analysis!'"
            ],
            "application/vnd.google.colaboratory.intrinsic+json": {
              "type": "string"
            }
          },
          "metadata": {},
          "execution_count": 58
        }
      ]
    },
    {
      "cell_type": "code",
      "source": [
        "#We can use this to print a string backwards\n",
        "\n",
        "print(string)\n",
        "\n",
        "string[::-1]"
      ],
      "metadata": {
        "colab": {
          "base_uri": "https://localhost:8080/",
          "height": 70
        },
        "id": "xAN0OThpfnBu",
        "outputId": "87aae1ef-8b79-44b4-e8cc-ebd5585b24e4"
      },
      "execution_count": null,
      "outputs": [
        {
          "output_type": "stream",
          "name": "stdout",
          "text": [
            "Principal Component Analysis!\n"
          ]
        },
        {
          "output_type": "execute_result",
          "data": {
            "text/plain": [
              "'!sisylanA tnenopmoC lapicnirP'"
            ],
            "application/vnd.google.colaboratory.intrinsic+json": {
              "type": "string"
            }
          },
          "metadata": {},
          "execution_count": 59
        }
      ]
    },
    {
      "cell_type": "code",
      "source": [
        "#print(string)\n",
        "string[2:4:-1]"
      ],
      "metadata": {
        "colab": {
          "base_uri": "https://localhost:8080/",
          "height": 35
        },
        "id": "USGsdbxafrtZ",
        "outputId": "d5d64e27-026e-411a-903c-0ebc4cf6cbc4"
      },
      "execution_count": null,
      "outputs": [
        {
          "output_type": "execute_result",
          "data": {
            "text/plain": [
              "''"
            ],
            "application/vnd.google.colaboratory.intrinsic+json": {
              "type": "string"
            }
          },
          "metadata": {},
          "execution_count": 62
        }
      ]
    },
    {
      "cell_type": "code",
      "source": [
        "string [4:2:-1]"
      ],
      "metadata": {
        "id": "Krx76R9Zf81u",
        "outputId": "39aa9938-bf46-4810-9dc8-1321b2dbf32e",
        "colab": {
          "base_uri": "https://localhost:8080/",
          "height": 35
        }
      },
      "execution_count": null,
      "outputs": [
        {
          "output_type": "execute_result",
          "data": {
            "text/plain": [
              "'cn'"
            ],
            "application/vnd.google.colaboratory.intrinsic+json": {
              "type": "string"
            }
          },
          "metadata": {},
          "execution_count": 63
        }
      ]
    },
    {
      "cell_type": "code",
      "source": [
        "#Concatenate strings!\n",
        "\n",
        "string1='abc'\n",
        "\n",
        "string2='def'\n",
        "\n",
        "print(string1 + string2)"
      ],
      "metadata": {
        "id": "XF0-JrFvgAqi",
        "colab": {
          "base_uri": "https://localhost:8080/"
        },
        "outputId": "288600a1-977a-4ca8-92f2-e4267db69d95"
      },
      "execution_count": null,
      "outputs": [
        {
          "output_type": "stream",
          "name": "stdout",
          "text": [
            "abcdef\n"
          ]
        }
      ]
    },
    {
      "cell_type": "code",
      "source": [
        "#Concatenate strings!\n",
        "\n",
        "string1='abc'\n",
        "\n",
        "string2='def'\n",
        "\n",
        "num = 4\n",
        "\n",
        "print(string1 + str(4) + string2)"
      ],
      "metadata": {
        "colab": {
          "base_uri": "https://localhost:8080/"
        },
        "id": "u9WQR0pOgSyc",
        "outputId": "74c02ae2-cdb3-46c2-bfd0-06762383f9c7"
      },
      "execution_count": null,
      "outputs": [
        {
          "output_type": "stream",
          "name": "stdout",
          "text": [
            "abc4def\n"
          ]
        }
      ]
    },
    {
      "cell_type": "code",
      "source": [
        "str(num)"
      ],
      "metadata": {
        "colab": {
          "base_uri": "https://localhost:8080/",
          "height": 35
        },
        "id": "aHrTKeqhgc5g",
        "outputId": "c9ece88a-3ce8-4677-c08c-8caa64187afd"
      },
      "execution_count": null,
      "outputs": [
        {
          "output_type": "execute_result",
          "data": {
            "text/plain": [
              "'4'"
            ],
            "application/vnd.google.colaboratory.intrinsic+json": {
              "type": "string"
            }
          },
          "metadata": {},
          "execution_count": 69
        }
      ]
    },
    {
      "cell_type": "code",
      "source": [
        "#Concatenate strings!\n",
        "\n",
        "string1='abc'\n",
        "\n",
        "string2='def'\n",
        "\n",
        "string1 + '4'+ string2"
      ],
      "metadata": {
        "colab": {
          "base_uri": "https://localhost:8080/",
          "height": 35
        },
        "id": "YyhMPa8Pgg5m",
        "outputId": "0dc0f28f-e707-42cb-d6b7-54660f1d661c"
      },
      "execution_count": null,
      "outputs": [
        {
          "output_type": "execute_result",
          "data": {
            "text/plain": [
              "'abc4def'"
            ],
            "application/vnd.google.colaboratory.intrinsic+json": {
              "type": "string"
            }
          },
          "metadata": {},
          "execution_count": 70
        }
      ]
    },
    {
      "cell_type": "code",
      "source": [
        "#We can reassign string completely though!\n",
        "\n",
        "string = string + 'concatenate me!'\n",
        "\n",
        "print(string)"
      ],
      "metadata": {
        "colab": {
          "base_uri": "https://localhost:8080/"
        },
        "id": "Lf-tyHqagkzI",
        "outputId": "fe4612bf-d99a-46e0-a5ac-770263c76300"
      },
      "execution_count": null,
      "outputs": [
        {
          "output_type": "stream",
          "name": "stdout",
          "text": [
            "Principal Component Analysis!concatenate me!\n"
          ]
        }
      ]
    },
    {
      "cell_type": "code",
      "source": [
        "letters = 'wubba'\n",
        "\n",
        "letters*2"
      ],
      "metadata": {
        "colab": {
          "base_uri": "https://localhost:8080/",
          "height": 35
        },
        "id": "8NBTi4jBgrxx",
        "outputId": "63f4c1bc-d06a-4f82-b6cf-715472b2ed0b"
      },
      "execution_count": null,
      "outputs": [
        {
          "output_type": "execute_result",
          "data": {
            "text/plain": [
              "'wubbawubba'"
            ],
            "application/vnd.google.colaboratory.intrinsic+json": {
              "type": "string"
            }
          },
          "metadata": {},
          "execution_count": 76
        }
      ]
    },
    {
      "cell_type": "code",
      "source": [
        "algorithm ='Neural Networks'\n",
        "\n",
        "print(algorithm)"
      ],
      "metadata": {
        "colab": {
          "base_uri": "https://localhost:8080/"
        },
        "id": "uhNn74qYg6uI",
        "outputId": "62f21373-2136-4bd4-c680-9d07048e4197"
      },
      "execution_count": null,
      "outputs": [
        {
          "output_type": "stream",
          "name": "stdout",
          "text": [
            "Neural Networks\n"
          ]
        }
      ]
    },
    {
      "cell_type": "code",
      "source": [
        "#Print the length of the string\n",
        "\n",
        "len(algorithm)"
      ],
      "metadata": {
        "colab": {
          "base_uri": "https://localhost:8080/"
        },
        "id": "iemcom4mg-Rg",
        "outputId": "b7a16e4f-bc15-4ce6-9ac2-170666ba8e98"
      },
      "execution_count": null,
      "outputs": [
        {
          "output_type": "execute_result",
          "data": {
            "text/plain": [
              "15"
            ]
          },
          "metadata": {},
          "execution_count": 79
        }
      ]
    },
    {
      "cell_type": "code",
      "source": [
        "print(algorithm)"
      ],
      "metadata": {
        "id": "Hn1Rh-U9hCEv",
        "outputId": "98677e6f-5de4-4b1a-a1e2-7c0201d566bc",
        "colab": {
          "base_uri": "https://localhost:8080/"
        }
      },
      "execution_count": null,
      "outputs": [
        {
          "output_type": "stream",
          "name": "stdout",
          "text": [
            "Neural Networks\n"
          ]
        }
      ]
    },
    {
      "cell_type": "code",
      "source": [
        "algorithm.count('Networks')"
      ],
      "metadata": {
        "id": "3fAX19WChEmT",
        "outputId": "5d293de1-0c58-4b35-d1dc-34a6383e72e0",
        "colab": {
          "base_uri": "https://localhost:8080/"
        }
      },
      "execution_count": null,
      "outputs": [
        {
          "output_type": "execute_result",
          "data": {
            "text/plain": [
              "1"
            ]
          },
          "metadata": {},
          "execution_count": 81
        }
      ]
    },
    {
      "cell_type": "code",
      "source": [
        "algorithm.count('eu')"
      ],
      "metadata": {
        "id": "PxSwuvIkhHFL",
        "colab": {
          "base_uri": "https://localhost:8080/"
        },
        "outputId": "4b8690d1-c437-4d17-eb31-12ac71a4daa1"
      },
      "execution_count": null,
      "outputs": [
        {
          "output_type": "execute_result",
          "data": {
            "text/plain": [
              "1"
            ]
          },
          "metadata": {},
          "execution_count": 85
        }
      ]
    },
    {
      "cell_type": "code",
      "source": [
        "algorithm.count('Neurla')"
      ],
      "metadata": {
        "colab": {
          "base_uri": "https://localhost:8080/"
        },
        "id": "QxY3RKLFhUuX",
        "outputId": "8b1a8b41-5074-4ba4-b615-e04ab30260a1"
      },
      "execution_count": null,
      "outputs": [
        {
          "output_type": "execute_result",
          "data": {
            "text/plain": [
              "0"
            ]
          },
          "metadata": {},
          "execution_count": 86
        }
      ]
    },
    {
      "cell_type": "code",
      "source": [
        "print(algorithm)"
      ],
      "metadata": {
        "colab": {
          "base_uri": "https://localhost:8080/"
        },
        "id": "UQnYBbpLhWkx",
        "outputId": "e88272b8-163f-49e0-b29b-9452305d7420"
      },
      "execution_count": null,
      "outputs": [
        {
          "output_type": "stream",
          "name": "stdout",
          "text": [
            "Neural Networks\n"
          ]
        }
      ]
    },
    {
      "cell_type": "code",
      "source": [
        "algorithm.find('r')"
      ],
      "metadata": {
        "colab": {
          "base_uri": "https://localhost:8080/"
        },
        "id": "pAXdF8bWhfzK",
        "outputId": "96d0bb0b-8afc-4659-ddaa-fedeb223723c"
      },
      "execution_count": null,
      "outputs": [
        {
          "output_type": "execute_result",
          "data": {
            "text/plain": [
              "3"
            ]
          },
          "metadata": {},
          "execution_count": 88
        }
      ]
    },
    {
      "cell_type": "code",
      "source": [
        "algorithm.find('Neural')"
      ],
      "metadata": {
        "colab": {
          "base_uri": "https://localhost:8080/"
        },
        "id": "YR6bFVeXhiFN",
        "outputId": "11368575-d8db-4592-b6e6-59c358ee2ed6"
      },
      "execution_count": null,
      "outputs": [
        {
          "output_type": "execute_result",
          "data": {
            "text/plain": [
              "0"
            ]
          },
          "metadata": {},
          "execution_count": 89
        }
      ]
    },
    {
      "cell_type": "code",
      "source": [
        "algorithm.replace('N', 'L')"
      ],
      "metadata": {
        "id": "SU4xrDiQhkj8",
        "outputId": "676bc24b-c915-4d11-c1cc-8868f601dfb0",
        "colab": {
          "base_uri": "https://localhost:8080/",
          "height": 35
        }
      },
      "execution_count": null,
      "outputs": [
        {
          "output_type": "execute_result",
          "data": {
            "text/plain": [
              "'Leural Letworks'"
            ],
            "application/vnd.google.colaboratory.intrinsic+json": {
              "type": "string"
            }
          },
          "metadata": {},
          "execution_count": 90
        }
      ]
    },
    {
      "cell_type": "code",
      "source": [
        "#Storing the modified string\n",
        "\n",
        "algorithm_revised =algorithm.replace('Neural', 'Artificial Neural')\n",
        "\n",
        "print(algorithm_revised)\n",
        "\n",
        "print(algorithm)"
      ],
      "metadata": {
        "id": "K0YyPmMyhmwE",
        "outputId": "dcf37fdd-3940-43d0-e33e-564ec194192a",
        "colab": {
          "base_uri": "https://localhost:8080/"
        }
      },
      "execution_count": 102,
      "outputs": [
        {
          "output_type": "stream",
          "name": "stdout",
          "text": [
            "Artificial Neural Networks\n",
            "Neural Networks\n"
          ]
        }
      ]
    },
    {
      "cell_type": "code",
      "source": [
        "first_name = 'Rahul'\n",
        "\n",
        "last_name = 'Modi'\n",
        "\n",
        "full_name = f'Left plus right makes (last_name) (first_name)'"
      ],
      "metadata": {
        "id": "4D096-jaime0"
      },
      "execution_count": 108,
      "outputs": []
    },
    {
      "cell_type": "code",
      "source": [
        "print(first_name +last_name)"
      ],
      "metadata": {
        "colab": {
          "base_uri": "https://localhost:8080/"
        },
        "id": "FSkByZ7Airbs",
        "outputId": "8c17ead7-cd22-4c52-b1b0-c3435e4fe833"
      },
      "execution_count": 111,
      "outputs": [
        {
          "output_type": "stream",
          "name": "stdout",
          "text": [
            "RahulModi\n"
          ]
        }
      ]
    },
    {
      "cell_type": "code",
      "source": [
        "my_string='Albert Einstein'\n",
        "\n",
        "'Thomson' in my_string"
      ],
      "metadata": {
        "colab": {
          "base_uri": "https://localhost:8080/"
        },
        "id": "qyIpvG0hieDE",
        "outputId": "6dd58e9e-6c1f-489c-dc79-3b691cd4a2e7"
      },
      "execution_count": 104,
      "outputs": [
        {
          "output_type": "execute_result",
          "data": {
            "text/plain": [
              "False"
            ]
          },
          "metadata": {},
          "execution_count": 104
        }
      ]
    },
    {
      "cell_type": "code",
      "source": [
        "'Alberta' in my_string"
      ],
      "metadata": {
        "colab": {
          "base_uri": "https://localhost:8080/"
        },
        "id": "JvHETqn4iZLQ",
        "outputId": "5b9c5190-83c8-4581-b273-f2638bc2aa44"
      },
      "execution_count": 107,
      "outputs": [
        {
          "output_type": "execute_result",
          "data": {
            "text/plain": [
              "False"
            ]
          },
          "metadata": {},
          "execution_count": 107
        }
      ]
    }
  ]
}