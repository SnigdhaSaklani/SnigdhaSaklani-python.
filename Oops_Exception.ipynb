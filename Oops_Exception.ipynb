{
  "nbformat": 4,
  "nbformat_minor": 0,
  "metadata": {
    "colab": {
      "provenance": [],
      "authorship_tag": "ABX9TyNulh5RsNBh3JJvJYKY91IB",
      "include_colab_link": true
    },
    "kernelspec": {
      "name": "python3",
      "display_name": "Python 3"
    },
    "language_info": {
      "name": "python"
    }
  },
  "cells": [
    {
      "cell_type": "markdown",
      "metadata": {
        "id": "view-in-github",
        "colab_type": "text"
      },
      "source": [
        "<a href=\"https://colab.research.google.com/github/SnigdhaSaklani/SnigdhaSaklani-python./blob/main/Oops_Exception.ipynb\" target=\"_parent\"><img src=\"https://colab.research.google.com/assets/colab-badge.svg\" alt=\"Open In Colab\"/></a>"
      ]
    },
    {
      "cell_type": "code",
      "execution_count": null,
      "metadata": {
        "colab": {
          "base_uri": "https://localhost:8080/"
        },
        "id": "--kqOXIwdYTH",
        "outputId": "de4e0091-e54d-470e-ad73-02bcb7bfe314"
      },
      "outputs": [
        {
          "output_type": "execute_result",
          "data": {
            "text/plain": [
              "[]"
            ]
          },
          "metadata": {},
          "execution_count": 1
        }
      ],
      "source": [
        "empty_list = []\n",
        "empty_list"
      ]
    },
    {
      "cell_type": "code",
      "source": [
        "another_empty_list = list()\n",
        "another_empty_list"
      ],
      "metadata": {
        "colab": {
          "base_uri": "https://localhost:8080/"
        },
        "id": "UglHiuwmdcz1",
        "outputId": "1176b6cf-a734-4777-ef66-f8f47d89c93e"
      },
      "execution_count": null,
      "outputs": [
        {
          "output_type": "execute_result",
          "data": {
            "text/plain": [
              "[]"
            ]
          },
          "metadata": {},
          "execution_count": 2
        }
      ]
    },
    {
      "cell_type": "code",
      "source": [
        "another_empty_list.append(2)\n",
        "another_empty_list"
      ],
      "metadata": {
        "colab": {
          "base_uri": "https://localhost:8080/"
        },
        "id": "UZbJs02Mdf0W",
        "outputId": "57bd362f-1818-4e32-9229-212e9e6414c2"
      },
      "execution_count": null,
      "outputs": [
        {
          "output_type": "execute_result",
          "data": {
            "text/plain": [
              "[2]"
            ]
          },
          "metadata": {},
          "execution_count": 3
        }
      ]
    },
    {
      "cell_type": "code",
      "source": [
        "another_empty_list.append(1)\n",
        "another_empty_list.append(3)\n",
        "another_empty_list"
      ],
      "metadata": {
        "colab": {
          "base_uri": "https://localhost:8080/"
        },
        "id": "hffBbXf_di6r",
        "outputId": "17e0d8c3-c152-4c22-9932-31acd58f8c04"
      },
      "execution_count": null,
      "outputs": [
        {
          "output_type": "execute_result",
          "data": {
            "text/plain": [
              "[2, 1, 3, 1, 3]"
            ]
          },
          "metadata": {},
          "execution_count": 6
        }
      ]
    },
    {
      "cell_type": "code",
      "source": [
        "another_empty_list.index(3)"
      ],
      "metadata": {
        "colab": {
          "base_uri": "https://localhost:8080/"
        },
        "id": "nI0c1N5CdmJK",
        "outputId": "da12ba30-7920-48d7-ed1a-b10f9abe1f49"
      },
      "execution_count": null,
      "outputs": [
        {
          "output_type": "execute_result",
          "data": {
            "text/plain": [
              "2"
            ]
          },
          "metadata": {},
          "execution_count": 5
        }
      ]
    },
    {
      "cell_type": "code",
      "source": [
        "the_sixth_sense = 6\n",
        "print(type(the_sixth_sense))"
      ],
      "metadata": {
        "colab": {
          "base_uri": "https://localhost:8080/"
        },
        "id": "sv7Q1LofdrRa",
        "outputId": "87f40f8a-310e-4b1f-8370-1b87e30371c6"
      },
      "execution_count": null,
      "outputs": [
        {
          "output_type": "stream",
          "name": "stdout",
          "text": [
            "<class 'int'>\n"
          ]
        }
      ]
    },
    {
      "cell_type": "code",
      "source": [
        "two_and_a_half_men = 2.5\n",
        "print(type(two_and_a_half_men))"
      ],
      "metadata": {
        "colab": {
          "base_uri": "https://localhost:8080/"
        },
        "id": "uvmCD65zdvK0",
        "outputId": "5fed8bbd-3f54-4016-ec21-facf84a9b957"
      },
      "execution_count": null,
      "outputs": [
        {
          "output_type": "stream",
          "name": "stdout",
          "text": [
            "<class 'float'>\n"
          ]
        }
      ]
    },
    {
      "cell_type": "code",
      "source": [
        "another_list = list()\n",
        "tharoor = {'farrago': 'a confused mixture'}\n",
        "print(type(tharoor))"
      ],
      "metadata": {
        "colab": {
          "base_uri": "https://localhost:8080/"
        },
        "id": "1kfF0wH9dzzQ",
        "outputId": "0f6e6772-6bf2-451b-d777-0878b5aaae3f"
      },
      "execution_count": null,
      "outputs": [
        {
          "output_type": "stream",
          "name": "stdout",
          "text": [
            "<class 'dict'>\n"
          ]
        }
      ]
    },
    {
      "cell_type": "code",
      "source": [
        "schindlers_list = list()\n",
        "print(type(schindlers_list))"
      ],
      "metadata": {
        "colab": {
          "base_uri": "https://localhost:8080/"
        },
        "id": "nLskQ-GYd3lS",
        "outputId": "c205d2c8-16b3-4a75-e7b4-1c810dd299d6"
      },
      "execution_count": null,
      "outputs": [
        {
          "output_type": "stream",
          "name": "stdout",
          "text": [
            "<class 'list'>\n"
          ]
        }
      ]
    },
    {
      "cell_type": "code",
      "source": [
        "another_list = list()\n",
        "tharoor = {'farrago': 'a confused mixture'}\n",
        "print(type(tharoor))"
      ],
      "metadata": {
        "colab": {
          "base_uri": "https://localhost:8080/"
        },
        "id": "PR13wus4d6to",
        "outputId": "93c9cec6-df23-48ec-91fa-428c3520618b"
      },
      "execution_count": null,
      "outputs": [
        {
          "output_type": "stream",
          "name": "stdout",
          "text": [
            "<class 'dict'>\n"
          ]
        }
      ]
    },
    {
      "cell_type": "code",
      "source": [
        "#Create a new object type called FirstClass\n",
        "class FirstClass:\n",
        "  pass"
      ],
      "metadata": {
        "id": "ho768dKoevdU"
      },
      "execution_count": null,
      "outputs": []
    },
    {
      "cell_type": "code",
      "source": [
        "#Instance of FirstClass\n",
        "x = FirstClass()\n",
        "print(type(x))"
      ],
      "metadata": {
        "colab": {
          "base_uri": "https://localhost:8080/"
        },
        "id": "ILudhJD8e1dA",
        "outputId": "9a29a2fa-92c3-479e-b0a9-6e0975aed66c"
      },
      "execution_count": null,
      "outputs": [
        {
          "output_type": "stream",
          "name": "stdout",
          "text": [
            "<class '__main__.FirstClass'>\n"
          ]
        }
      ]
    },
    {
      "cell_type": "code",
      "source": [
        "y = FirstClass()\n",
        "print(type(y))"
      ],
      "metadata": {
        "colab": {
          "base_uri": "https://localhost:8080/"
        },
        "id": "zzi-iX1Pe5i2",
        "outputId": "81537861-bc22-45f8-c093-8b4c5b10be4c"
      },
      "execution_count": null,
      "outputs": [
        {
          "output_type": "stream",
          "name": "stdout",
          "text": [
            "<class '__main__.FirstClass'>\n"
          ]
        }
      ]
    },
    {
      "cell_type": "code",
      "source": [
        "#Attributes\n",
        "class Dog:\n",
        "  def __init__(self, breed, name):\n",
        "    self.breed_attribute = breed\n",
        "    self.name_attribute = name"
      ],
      "metadata": {
        "id": "IKBBBCMQe82p"
      },
      "execution_count": null,
      "outputs": []
    },
    {
      "cell_type": "code",
      "source": [
        "sam_object = Dog(breed='Lab', name='Sam')\n",
        "frank_object = Dog(breed='Huskie', name='Frank')"
      ],
      "metadata": {
        "id": "0qLpZDU7fAgG"
      },
      "execution_count": null,
      "outputs": []
    },
    {
      "cell_type": "code",
      "source": [
        "sam_object.breed_attribute"
      ],
      "metadata": {
        "colab": {
          "base_uri": "https://localhost:8080/",
          "height": 35
        },
        "id": "WtDoEM1EfDy_",
        "outputId": "3dfeea9e-ecd8-4284-ad04-d4f6e3d28c8a"
      },
      "execution_count": null,
      "outputs": [
        {
          "output_type": "execute_result",
          "data": {
            "text/plain": [
              "'Lab'"
            ],
            "application/vnd.google.colaboratory.intrinsic+json": {
              "type": "string"
            }
          },
          "metadata": {},
          "execution_count": 23
        }
      ]
    },
    {
      "cell_type": "code",
      "source": [
        "frank_object.name_attribute"
      ],
      "metadata": {
        "colab": {
          "base_uri": "https://localhost:8080/",
          "height": 35
        },
        "id": "Hgvf8W39fGaL",
        "outputId": "1e2a79e5-438d-47bb-c64e-dd39193cdd8f"
      },
      "execution_count": null,
      "outputs": [
        {
          "output_type": "execute_result",
          "data": {
            "text/plain": [
              "'Frank'"
            ],
            "application/vnd.google.colaboratory.intrinsic+json": {
              "type": "string"
            }
          },
          "metadata": {},
          "execution_count": 24
        }
      ]
    },
    {
      "cell_type": "code",
      "source": [
        "#Circle class\n",
        "class Circle:\n",
        "  def __init__(self, radius = 1):\n",
        "    self.radius = radius\n",
        "    self.area = 3.14 * radius * radius\n",
        "\n",
        "  def setRadius(self, new_radius):\n",
        "      self.radius = new_radius\n",
        "      self.area = 3.14 * new_radius * new_radius\n",
        "\n",
        "  def getCircumference(self):\n",
        "      return 2 * 3.14 * self.radius\n",
        "\n",
        "c = Circle(2)\n",
        "c.area"
      ],
      "metadata": {
        "colab": {
          "base_uri": "https://localhost:8080/"
        },
        "id": "eaUb25UGfJJn",
        "outputId": "94fc77fa-738f-456c-e44b-62b8db382679"
      },
      "execution_count": null,
      "outputs": [
        {
          "output_type": "execute_result",
          "data": {
            "text/plain": [
              "12.56"
            ]
          },
          "metadata": {},
          "execution_count": 25
        }
      ]
    },
    {
      "cell_type": "code",
      "source": [
        "c.setRadius(10)\n",
        "print(c.getCircumference())"
      ],
      "metadata": {
        "colab": {
          "base_uri": "https://localhost:8080/"
        },
        "id": "NlhU3ZDNfN4W",
        "outputId": "eb631973-bef5-4de4-d4ee-1a326b8a54d4"
      },
      "execution_count": null,
      "outputs": [
        {
          "output_type": "stream",
          "name": "stdout",
          "text": [
            "62.800000000000004\n"
          ]
        }
      ]
    },
    {
      "cell_type": "code",
      "source": [
        "print('Radius is: ', c.radius)\n",
        "print('Area is: ', c.area)\n",
        "print('Circumference is: ', c.getCircumference())"
      ],
      "metadata": {
        "colab": {
          "base_uri": "https://localhost:8080/"
        },
        "id": "RhG6X_dmfRsK",
        "outputId": "26c90af0-d0e2-4684-9412-9db27729a737"
      },
      "execution_count": null,
      "outputs": [
        {
          "output_type": "stream",
          "name": "stdout",
          "text": [
            "Radius is:  10\n",
            "Area is:  314.0\n",
            "Circumference is:  62.800000000000004\n"
          ]
        }
      ]
    },
    {
      "cell_type": "code",
      "source": [
        "#Changing the radius\n",
        "c.setRadius(4)\n",
        "print('radius is: ', c.radius)\n",
        "print('Area is: ', c.area)\n",
        "print('Circumference is: ', c.getCircumference())"
      ],
      "metadata": {
        "colab": {
          "base_uri": "https://localhost:8080/"
        },
        "id": "0ekBELQPfVGM",
        "outputId": "46252d58-59cf-4818-d940-3ed671607e42"
      },
      "execution_count": null,
      "outputs": [
        {
          "output_type": "stream",
          "name": "stdout",
          "text": [
            "radius is:  4\n",
            "Area is:  50.24\n",
            "Circumference is:  25.12\n"
          ]
        }
      ]
    },
    {
      "cell_type": "code",
      "source": [
        "#Polymorphism\n",
        "class HouseStark:\n",
        "  def __init__(self, sigil):\n",
        "    self.sigil = sigil\n",
        "\n",
        "  def motto(self):\n",
        "    return \"house stark with sigil \" + self.sigil + \"has the motto 'Winter is Coming'\"\n",
        "\n",
        "class HouseTargaryen:\n",
        "  def __init__(self, sigil):\n",
        "    self.sigil = sigil\n",
        "\n",
        "  def motto(self):\n",
        "      return \"house targaryen with sigil \" + self.sigil + \"has the motto 'Fire and Blood'\""
      ],
      "metadata": {
        "id": "nWlyJrBvfZvI"
      },
      "execution_count": null,
      "outputs": []
    },
    {
      "cell_type": "code",
      "source": [
        "arya = HouseStark('direwolf')\n",
        "danaerys = HouseTargaryen('dragon')\n",
        "\n",
        "print(arya.motto())"
      ],
      "metadata": {
        "colab": {
          "base_uri": "https://localhost:8080/"
        },
        "id": "Z49_Q5hdfeeK",
        "outputId": "d2a9df11-d4a0-421d-f831-b9fce4697148"
      },
      "execution_count": null,
      "outputs": [
        {
          "output_type": "stream",
          "name": "stdout",
          "text": [
            "house stark with sigil direwolfhas the motto 'Winter is Coming'\n"
          ]
        }
      ]
    },
    {
      "cell_type": "code",
      "source": [
        "print(danaerys.motto())"
      ],
      "metadata": {
        "colab": {
          "base_uri": "https://localhost:8080/"
        },
        "id": "iRSQenLhfibl",
        "outputId": "dc1e2fa5-b86b-4ecc-f077-7ac7b679fa53"
      },
      "execution_count": null,
      "outputs": [
        {
          "output_type": "stream",
          "name": "stdout",
          "text": [
            "house targaryen with sigil dragonhas the motto 'Fire and Blood'\n"
          ]
        }
      ]
    },
    {
      "cell_type": "code",
      "source": [
        "for warrior in [arya, danaerys]:\n",
        "  print(warrior.motto())"
      ],
      "metadata": {
        "colab": {
          "base_uri": "https://localhost:8080/"
        },
        "id": "fanUFzW0flG0",
        "outputId": "bd362b44-084c-45d7-f1a2-2a718ac7b0c7"
      },
      "execution_count": null,
      "outputs": [
        {
          "output_type": "stream",
          "name": "stdout",
          "text": [
            "house stark with sigil direwolfhas the motto 'Winter is Coming'\n",
            "house targaryen with sigil dragonhas the motto 'Fire and Blood'\n"
          ]
        }
      ]
    },
    {
      "cell_type": "code",
      "source": [
        "def get_motto(warrior):\n",
        "  print(warrior.motto())\n",
        "\n",
        "get_motto(arya)\n",
        "get_motto(danaerys)"
      ],
      "metadata": {
        "colab": {
          "base_uri": "https://localhost:8080/"
        },
        "id": "T8AkVo_qfodU",
        "outputId": "4c401059-dad8-4b18-fa96-0371eb7d8932"
      },
      "execution_count": null,
      "outputs": [
        {
          "output_type": "stream",
          "name": "stdout",
          "text": [
            "house stark with sigil direwolfhas the motto 'Winter is Coming'\n",
            "house targaryen with sigil dragonhas the motto 'Fire and Blood'\n"
          ]
        }
      ]
    },
    {
      "cell_type": "code",
      "source": [
        "#Try and except\n",
        "try:\n",
        "  print(\"good to go\")\n",
        "  print('sss')\n",
        "  print('top','class')\n",
        "except:\n",
        "  print('yesss')\n",
        "  print('hahaha')\n",
        "  print('blabla')\n",
        "else:\n",
        "  print(\"t r u e\")\n",
        "  print(' no matter')\n",
        "  print('what')"
      ],
      "metadata": {
        "colab": {
          "base_uri": "https://localhost:8080/"
        },
        "id": "q5Jrqncqfrn1",
        "outputId": "faa250d0-622f-454d-9ee8-8ac0f3594c73"
      },
      "execution_count": null,
      "outputs": [
        {
          "output_type": "stream",
          "name": "stdout",
          "text": [
            "good to go\n",
            "sss\n",
            "top class\n",
            "t r u e\n",
            " no matter\n",
            "what\n"
          ]
        }
      ]
    },
    {
      "cell_type": "code",
      "source": [
        "#Finally\n",
        "try:\n",
        "  print(\"execute try statements\")\n",
        "except:\n",
        "  print(\"neverrrr\")\n",
        "finally:\n",
        "  print(\"finally always\")"
      ],
      "metadata": {
        "colab": {
          "base_uri": "https://localhost:8080/"
        },
        "id": "tXvSe0B1fwXT",
        "outputId": "54bb4672-5543-4de1-d413-17e6bed2e0e8"
      },
      "execution_count": null,
      "outputs": [
        {
          "output_type": "stream",
          "name": "stdout",
          "text": [
            "execute try statements\n",
            "finally always\n"
          ]
        }
      ]
    },
    {
      "cell_type": "code",
      "source": [
        "#A real world case example\n",
        "'''\n",
        "uber price calculation\n",
        "'''\n",
        "def get_price_per_km(hour):\n",
        "\n",
        "  if (hour>8 & (hour<11)):\n",
        "    price_per_km = 20\n",
        "  elif (hour>18 & (hour<21)):\n",
        "    price_per_km = 25\n",
        "  else:\n",
        "    price_per_km = 30\n",
        "  return price_per_km"
      ],
      "metadata": {
        "id": "GwBaxwVff0sF"
      },
      "execution_count": null,
      "outputs": []
    },
    {
      "cell_type": "code",
      "source": [
        "\n",
        "'''\n",
        "production grade code\n",
        "'''\n",
        "class SurgePricing:\n",
        "    def __init__(self):\n",
        "        pass\n",
        "    def get_price_per_km(self, hour):\n",
        "        try:\n",
        "            if (hour > 8 and (hour < 11)):\n",
        "                price_per_km = 20\n",
        "            elif (hour > 18 and (hour < 21)):\n",
        "                price_per_km = 25\n",
        "            else:\n",
        "                price_per_km = 30\n",
        "        except:\n",
        "            price_per_km = 10\n",
        "        return price_per_km"
      ],
      "metadata": {
        "id": "uVlwIZTyf5Sc"
      },
      "execution_count": null,
      "outputs": []
    }
  ]
}