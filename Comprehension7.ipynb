{
  "nbformat": 4,
  "nbformat_minor": 0,
  "metadata": {
    "colab": {
      "provenance": [],
      "authorship_tag": "ABX9TyMDOMaqiyNDhNqlAZGYbH3k",
      "include_colab_link": true
    },
    "kernelspec": {
      "name": "python3",
      "display_name": "Python 3"
    },
    "language_info": {
      "name": "python"
    }
  },
  "cells": [
    {
      "cell_type": "markdown",
      "metadata": {
        "id": "view-in-github",
        "colab_type": "text"
      },
      "source": [
        "<a href=\"https://colab.research.google.com/github/SnigdhaSaklani/SnigdhaSaklani-python./blob/main/Comprehension7.ipynb\" target=\"_parent\"><img src=\"https://colab.research.google.com/assets/colab-badge.svg\" alt=\"Open In Colab\"/></a>"
      ]
    },
    {
      "cell_type": "code",
      "execution_count": null,
      "metadata": {
        "id": "5hBuLkUmbU6A"
      },
      "outputs": [],
      "source": [
        "#The list of numbers\n",
        "list_of_numbers=[1,2,4,6,11,14,17,20]"
      ]
    },
    {
      "cell_type": "code",
      "source": [
        "#Let us first initialize a list where we will be appending the squares in each iteration\n",
        "squared_numbers=[1,2,4,6,11,14,17,20]\n",
        "print(squared_numbers)"
      ],
      "metadata": {
        "colab": {
          "base_uri": "https://localhost:8080/"
        },
        "id": "SPogAMQzbq-o",
        "outputId": "36eb5248-629a-4681-82e0-b0fdfd52cea9"
      },
      "execution_count": null,
      "outputs": [
        {
          "output_type": "stream",
          "name": "stdout",
          "text": [
            "[1, 2, 4, 6, 11, 14, 17, 20]\n"
          ]
        }
      ]
    },
    {
      "cell_type": "code",
      "source": [
        "print(f\"The list of squared numbers is {squared_numbers}\")"
      ],
      "metadata": {
        "colab": {
          "base_uri": "https://localhost:8080/"
        },
        "id": "ud7BtRRPbw5X",
        "outputId": "d98872c6-7d07-48a9-a9ef-dc8fdea173b4"
      },
      "execution_count": null,
      "outputs": [
        {
          "output_type": "stream",
          "name": "stdout",
          "text": [
            "The list of squared numbers is [1, 2, 4, 6, 11, 14, 17, 20]\n"
          ]
        }
      ]
    },
    {
      "cell_type": "code",
      "source": [
        "#Getting the list of squares using list comprehension\n",
        "list_of_numbers=[1,2,4,6,11,14,17,20]\n",
        "squared_numbers=[number**2 for number in list_of_numbers]\n",
        "print(squared_numbers)"
      ],
      "metadata": {
        "colab": {
          "base_uri": "https://localhost:8080/"
        },
        "id": "568aPlKGb93O",
        "outputId": "1adc87a1-b702-4386-d375-24465249a0ac"
      },
      "execution_count": null,
      "outputs": [
        {
          "output_type": "stream",
          "name": "stdout",
          "text": [
            "[1, 4, 16, 36, 121, 196, 289, 400]\n"
          ]
        }
      ]
    },
    {
      "cell_type": "code",
      "source": [
        "print(list_of_numbers)"
      ],
      "metadata": {
        "colab": {
          "base_uri": "https://localhost:8080/"
        },
        "id": "iAZ15chMcEi_",
        "outputId": "619b7834-0fb7-4aaf-b1a8-d1d4b553abca"
      },
      "execution_count": null,
      "outputs": [
        {
          "output_type": "stream",
          "name": "stdout",
          "text": [
            "[1, 2, 4, 6, 11, 14, 17, 20]\n"
          ]
        }
      ]
    },
    {
      "cell_type": "code",
      "source": [
        "#Writing list comprehension using conditionals\n",
        "even_squared_numbers=[number**2 for number in list_of_numbers if number%2==0]\n",
        "print(even_squared_numbers)"
      ],
      "metadata": {
        "colab": {
          "base_uri": "https://localhost:8080/"
        },
        "id": "3dj2vSJ2cJcV",
        "outputId": "f91cc745-d8d2-466b-b4ac-b551b97fc173"
      },
      "execution_count": null,
      "outputs": [
        {
          "output_type": "stream",
          "name": "stdout",
          "text": [
            "[4, 16, 36, 196, 400]\n"
          ]
        }
      ]
    },
    {
      "cell_type": "code",
      "source": [
        "#Writing list comprehension using conditionals\n",
        "odd_squared_numbers=[number**2 for number in list_of_numbers if number%2!=0]\n",
        "print(odd_squared_numbers)"
      ],
      "metadata": {
        "id": "-7ielqE5cPUG",
        "colab": {
          "base_uri": "https://localhost:8080/"
        },
        "outputId": "76f08033-3026-4a68-b85e-c07b2fc643af"
      },
      "execution_count": null,
      "outputs": [
        {
          "output_type": "stream",
          "name": "stdout",
          "text": [
            "[1, 121, 289]\n"
          ]
        }
      ]
    },
    {
      "cell_type": "code",
      "source": [
        "#Writing list comprehension using conditionals\n",
        "even_squared_numbers=[number**2 for number in list_of_numbers if number%2==0]\n",
        "print(even_squared_numbers)"
      ],
      "metadata": {
        "colab": {
          "base_uri": "https://localhost:8080/"
        },
        "id": "tKLejY9NchXG",
        "outputId": "208f3189-d41a-4bf3-82d8-993832fbff88"
      },
      "execution_count": null,
      "outputs": [
        {
          "output_type": "stream",
          "name": "stdout",
          "text": [
            "[4, 16, 36, 196, 400]\n"
          ]
        }
      ]
    },
    {
      "cell_type": "code",
      "source": [
        "#Writing list comprehension using conditionals\n",
        "odd_squared_numbers = [number**2 if number%2!=0 else number**3 for number in list_of_numbers]\n",
        "print(odd_squared_numbers)"
      ],
      "metadata": {
        "colab": {
          "base_uri": "https://localhost:8080/"
        },
        "id": "OloomuH4cmP2",
        "outputId": "d8484c3f-6d2e-4038-cbb0-8e895ace3031"
      },
      "execution_count": null,
      "outputs": [
        {
          "output_type": "stream",
          "name": "stdout",
          "text": [
            "[1, 8, 64, 216, 121, 2744, 289, 8000]\n"
          ]
        }
      ]
    },
    {
      "cell_type": "code",
      "source": [
        "even_squared_numbers=[number**2 for number in list_of_numbers if number%2==0]"
      ],
      "metadata": {
        "id": "sDYS_FsCctm9"
      },
      "execution_count": null,
      "outputs": []
    },
    {
      "cell_type": "code",
      "source": [
        "list(range(4))"
      ],
      "metadata": {
        "colab": {
          "base_uri": "https://localhost:8080/"
        },
        "id": "O5XxH0MTcxIJ",
        "outputId": "4f7f3736-a652-4617-f581-a666a8462a28"
      },
      "execution_count": null,
      "outputs": [
        {
          "output_type": "execute_result",
          "data": {
            "text/plain": [
              "[0, 1, 2, 3]"
            ]
          },
          "metadata": {},
          "execution_count": 19
        }
      ]
    },
    {
      "cell_type": "code",
      "source": [
        "list_of_numbers=[]\n",
        "for num1 in range(4):\n",
        "  for num2 in range(3):\n",
        "    print(num1,num2)\n",
        "    list_of_numbers.append(num2)\n",
        "    print(list_of_numbers)"
      ],
      "metadata": {
        "id": "mI5opCNQcztK",
        "outputId": "d39a31b2-db45-4e16-a027-7c830abdc8df",
        "colab": {
          "base_uri": "https://localhost:8080/"
        }
      },
      "execution_count": null,
      "outputs": [
        {
          "output_type": "stream",
          "name": "stdout",
          "text": [
            "0 0\n",
            "[0]\n",
            "0 1\n",
            "[0, 1]\n",
            "0 2\n",
            "[0, 1, 2]\n",
            "1 0\n",
            "[0, 1, 2, 0]\n",
            "1 1\n",
            "[0, 1, 2, 0, 1]\n",
            "1 2\n",
            "[0, 1, 2, 0, 1, 2]\n",
            "2 0\n",
            "[0, 1, 2, 0, 1, 2, 0]\n",
            "2 1\n",
            "[0, 1, 2, 0, 1, 2, 0, 1]\n",
            "2 2\n",
            "[0, 1, 2, 0, 1, 2, 0, 1, 2]\n",
            "3 0\n",
            "[0, 1, 2, 0, 1, 2, 0, 1, 2, 0]\n",
            "3 1\n",
            "[0, 1, 2, 0, 1, 2, 0, 1, 2, 0, 1]\n",
            "3 2\n",
            "[0, 1, 2, 0, 1, 2, 0, 1, 2, 0, 1, 2]\n"
          ]
        }
      ]
    },
    {
      "cell_type": "code",
      "source": [
        "#We can write it in a slightly different way\n",
        "list_of_numbers= [num2 for num1 in range(4) for num2 in range(3)]\n",
        "print(list_of_numbers)"
      ],
      "metadata": {
        "id": "TzIMx-9bdQXZ",
        "outputId": "232c3c5e-4a33-452d-8675-065a157c0e20",
        "colab": {
          "base_uri": "https://localhost:8080/"
        }
      },
      "execution_count": null,
      "outputs": [
        {
          "output_type": "stream",
          "name": "stdout",
          "text": [
            "[0, 1, 2, 0, 1, 2, 0, 1, 2, 0, 1, 2]\n"
          ]
        }
      ]
    },
    {
      "cell_type": "code",
      "source": [
        "list_of_numbers=[num2**2 for num2 in range(3) for num1 in range(4)]\n",
        "print(list_of_numbers)"
      ],
      "metadata": {
        "colab": {
          "base_uri": "https://localhost:8080/"
        },
        "id": "Cyy8dc-Xdmxo",
        "outputId": "40835983-c365-47e0-8284-52aa42b23d49"
      },
      "execution_count": null,
      "outputs": [
        {
          "output_type": "stream",
          "name": "stdout",
          "text": [
            "[0, 0, 0, 0, 1, 1, 1, 1, 4, 4, 4, 4]\n"
          ]
        }
      ]
    },
    {
      "cell_type": "code",
      "source": [
        "sample=[[]]\n",
        "len(sample)\n",
        "sample[0]"
      ],
      "metadata": {
        "colab": {
          "base_uri": "https://localhost:8080/"
        },
        "id": "kZS9jsO_duKg",
        "outputId": "37812db3-aa98-4f21-e4a5-443705dfaf4b"
      },
      "execution_count": null,
      "outputs": [
        {
          "output_type": "execute_result",
          "data": {
            "text/plain": [
              "[]"
            ]
          },
          "metadata": {},
          "execution_count": 30
        }
      ]
    },
    {
      "cell_type": "code",
      "source": [
        "list_of_lists=[1]\n",
        "#for num1 in range(4):\n",
        "#Append an empty sublist inside the list\n",
        "list_of_lists.append([]) #[[0]] , list_of_lists[1]\n",
        "#print(list_of_lists"
      ],
      "metadata": {
        "id": "2leYEq79dw2Y"
      },
      "execution_count": null,
      "outputs": []
    },
    {
      "cell_type": "code",
      "source": [
        "list_of_lists=[]\n",
        "#for num1 in range(4):\n",
        "#Append an empty sublist inside the list\n",
        "list_of_lists.append([]) #[[0]] , list_of_lists[1]\n",
        "#print(list_of_lists)"
      ],
      "metadata": {
        "id": "ueNE6538d0Xu"
      },
      "execution_count": null,
      "outputs": []
    },
    {
      "cell_type": "code",
      "source": [
        "for num2 in range(3):\n",
        "#Append the elements within the sublist\n",
        "list_of_lists[num1].append(num2) #list_of_lists[0]\n",
        "print(list_of_lists)\n",
        "\n",
        "[[0, 0, 0], [1, 1, 1], [2, 2, 2], [3, 3, 3, 2]]"
      ],
      "metadata": {
        "id": "gyjGv97tehho"
      },
      "execution_count": null,
      "outputs": []
    },
    {
      "cell_type": "code",
      "source": [
        "#Using list comprehension we can write the same thing\n",
        "list_of_lists=[[num1 for num2 in range(3)] for num1 in range(4)]\n",
        "print(list_of_lists)"
      ],
      "metadata": {
        "colab": {
          "base_uri": "https://localhost:8080/"
        },
        "id": "rucaUKT5ek7g",
        "outputId": "a24b6f8b-d041-4502-9e85-573456cbffef"
      },
      "execution_count": null,
      "outputs": [
        {
          "output_type": "stream",
          "name": "stdout",
          "text": [
            "[[0, 0, 0], [1, 1, 1], [2, 2, 2], [3, 3, 3]]\n"
          ]
        }
      ]
    },
    {
      "cell_type": "code",
      "source": [
        "heisenberg_quote= \"It ceases to exist without me. No,you clearly don't know who you're talkingto, so let me clue you in. I am not in danger,Skyler. I am the danger\"\n",
        "words_by_walter = heisenberg_quote.split(' ')\n",
        "print(words_by_walter)\n",
        "\n",
        "['It', 'ceases', 'to', 'exist', 'without', 'me.', 'No,you', 'clearly', \"don't\", 'know', 'who', \"you're\", 'talkingto,', 'so', 'let', 'me', 'clue', 'you', 'in.', 'I', 'am', 'not', 'in', 'danger,Skyler.', 'I', 'am', 'the', 'danger']"
      ],
      "metadata": {
        "colab": {
          "base_uri": "https://localhost:8080/"
        },
        "id": "Yx9X511XequV",
        "outputId": "c8b4a1b6-cb60-4a87-c995-4cce21d3feba"
      },
      "execution_count": null,
      "outputs": [
        {
          "output_type": "stream",
          "name": "stdout",
          "text": [
            "['It', 'ceases', 'to', 'exist', 'without', 'me.', 'No,you', 'clearly', \"don't\", 'know', 'who', \"you're\", 'talkingto,', 'so', 'let', 'me', 'clue', 'you', 'in.', 'I', 'am', 'not', 'in', 'danger,Skyler.', 'I', 'am', 'the', 'danger']\n"
          ]
        },
        {
          "output_type": "execute_result",
          "data": {
            "text/plain": [
              "['It',\n",
              " 'ceases',\n",
              " 'to',\n",
              " 'exist',\n",
              " 'without',\n",
              " 'me.',\n",
              " 'No,you',\n",
              " 'clearly',\n",
              " \"don't\",\n",
              " 'know',\n",
              " 'who',\n",
              " \"you're\",\n",
              " 'talkingto,',\n",
              " 'so',\n",
              " 'let',\n",
              " 'me',\n",
              " 'clue',\n",
              " 'you',\n",
              " 'in.',\n",
              " 'I',\n",
              " 'am',\n",
              " 'not',\n",
              " 'in',\n",
              " 'danger,Skyler.',\n",
              " 'I',\n",
              " 'am',\n",
              " 'the',\n",
              " 'danger']"
            ]
          },
          "metadata": {},
          "execution_count": 42
        }
      ]
    },
    {
      "cell_type": "code",
      "source": [
        "heisenberg_quote.split('t')"
      ],
      "metadata": {
        "colab": {
          "base_uri": "https://localhost:8080/"
        },
        "id": "IMwG5MKxeuQX",
        "outputId": "d389414f-d6f6-4133-c61c-1780818f67e7"
      },
      "execution_count": null,
      "outputs": [
        {
          "output_type": "execute_result",
          "data": {
            "text/plain": [
              "['I',\n",
              " ' ceases ',\n",
              " 'o exis',\n",
              " ' wi',\n",
              " 'hou',\n",
              " \" me. No,you clearly don'\",\n",
              " \" know who you're \",\n",
              " 'alking',\n",
              " 'o, so le',\n",
              " ' me clue you in. I am no',\n",
              " ' in danger,Skyler. I am ',\n",
              " 'he danger']"
            ]
          },
          "metadata": {},
          "execution_count": 43
        }
      ]
    },
    {
      "cell_type": "code",
      "source": [
        "#Let's you store the first time of each word in another list\n",
        "first_letters = []\n",
        "for word in words_by_walter:\n",
        "  first_letters.append(word[0])"
      ],
      "metadata": {
        "id": "1l8tNjJFeyOz"
      },
      "execution_count": null,
      "outputs": []
    },
    {
      "cell_type": "code",
      "source": [
        "#Print the first_letters list\n",
        "print(first_letters)"
      ],
      "metadata": {
        "colab": {
          "base_uri": "https://localhost:8080/"
        },
        "id": "Ral9kbOse6GO",
        "outputId": "ebb2f5fd-9aff-4eda-dd1d-6f905ab18359"
      },
      "execution_count": null,
      "outputs": [
        {
          "output_type": "stream",
          "name": "stdout",
          "text": [
            "['I', 'c', 't', 'e', 'w', 'm', 'N', 'c', 'd', 'k', 'w', 'y', 't', 's', 'l', 'm', 'c', 'y', 'i', 'I', 'a', 'n', 'i', 'd', 'I', 'a', 't', 'd']\n"
          ]
        }
      ]
    },
    {
      "cell_type": "code",
      "source": [
        "#The same task but now with list comprehension\n",
        "first_letters=[word[0] for word in words_by_walter]\n",
        "print(first_letters)"
      ],
      "metadata": {
        "colab": {
          "base_uri": "https://localhost:8080/"
        },
        "id": "th6Xgla2fCcq",
        "outputId": "9c378306-71e3-413d-884c-ee00fa887cbe"
      },
      "execution_count": null,
      "outputs": [
        {
          "output_type": "stream",
          "name": "stdout",
          "text": [
            "['I', 'c', 't', 'e', 'w', 'm', 'N', 'c', 'd', 'k', 'w', 'y', 't', 's', 'l', 'm', 'c', 'y', 'i', 'I', 'a', 'n', 'i', 'd', 'I', 'a', 't', 'd']\n"
          ]
        }
      ]
    },
    {
      "cell_type": "code",
      "source": [
        "heisenberg_quote.split(',')"
      ],
      "metadata": {
        "colab": {
          "base_uri": "https://localhost:8080/"
        },
        "id": "VAz0eSSEfKOv",
        "outputId": "00afe467-d74f-4897-d2ab-47df803b3d69"
      },
      "execution_count": null,
      "outputs": [
        {
          "output_type": "execute_result",
          "data": {
            "text/plain": [
              "['It ceases to exist without me. No',\n",
              " \"you clearly don't know who you're talkingto\",\n",
              " ' so let me clue you in. I am not in danger',\n",
              " 'Skyler. I am the danger']"
            ]
          },
          "metadata": {},
          "execution_count": 50
        }
      ]
    },
    {
      "cell_type": "code",
      "source": [
        "my_string='Alphsbet Inc.'\n",
        "list_of_characters= [char for char in my_string]\n",
        "print(list_of_characters)"
      ],
      "metadata": {
        "colab": {
          "base_uri": "https://localhost:8080/"
        },
        "id": "QtDcYRalfNAn",
        "outputId": "c504756a-9567-42d1-f8d8-59f823ac3760"
      },
      "execution_count": null,
      "outputs": [
        {
          "output_type": "stream",
          "name": "stdout",
          "text": [
            "['A', 'l', 'p', 'h', 's', 'b', 'e', 't', ' ', 'I', 'n', 'c', '.']\n"
          ]
        }
      ]
    },
    {
      "cell_type": "code",
      "source": [
        "#Suppose we have a tuple of days\n",
        "days = ('Monday','Tuesday','Wednesday','Thursday','Friday','Saturday','Sunday')\n",
        "tuple(day for day in days)"
      ],
      "metadata": {
        "colab": {
          "base_uri": "https://localhost:8080/"
        },
        "id": "p_VXW6PKfSWE",
        "outputId": "245439c3-6616-4853-c6af-46f0ffe400b6"
      },
      "execution_count": null,
      "outputs": [
        {
          "output_type": "execute_result",
          "data": {
            "text/plain": [
              "('Monday', 'Tuesday', 'Wednesday', 'Thursday', 'Friday', 'Saturday', 'Sunday')"
            ]
          },
          "metadata": {},
          "execution_count": 53
        }
      ]
    },
    {
      "cell_type": "code",
      "source": [
        "#Let us create a tuple where we want to remove the word 'day' from each tuple element\n",
        "days_without_day = tuple([day[:-3] for day in days])\n",
        "print(days_without_day)"
      ],
      "metadata": {
        "colab": {
          "base_uri": "https://localhost:8080/"
        },
        "id": "6uAhnPCvfWJc",
        "outputId": "c4266c44-545c-4843-e1d3-c3b5238739d9"
      },
      "execution_count": null,
      "outputs": [
        {
          "output_type": "stream",
          "name": "stdout",
          "text": [
            "('Mon', 'Tues', 'Wednes', 'Thurs', 'Fri', 'Satur', 'Sun')\n"
          ]
        }
      ]
    },
    {
      "cell_type": "code",
      "source": [
        "Using set comprehension\n",
        "first_letters = {word[0] for word in words_by_walter}\n",
        "print(first_letters)\n",
        "\n",
        "{'s', 'w', 'y', 'm', 't', 'd', 'i', 'c', 'e', 'I', 'N', 'l', 'a', 'n', 'k'}"
      ],
      "metadata": {
        "id": "6KITFYNHfnM6"
      },
      "execution_count": null,
      "outputs": []
    },
    {
      "cell_type": "code",
      "source": [
        "#Dictionary comprehensions\n",
        "country_city_list = [('India','New Delhi'), ('Australia','Canberra'), ('United States' ,'Washington DC'),('England','London')]"
      ],
      "metadata": {
        "id": "PJVQmPoVfwvA"
      },
      "execution_count": null,
      "outputs": []
    },
    {
      "cell_type": "code",
      "source": [
        "#lets convert the list of tuples to a dictionary\n",
        "country_city_dict = dict(country_city_list)\n",
        "print(country_city_dict)\n"
      ],
      "metadata": {
        "colab": {
          "base_uri": "https://localhost:8080/"
        },
        "id": "JIL8QKYgfrkl",
        "outputId": "46a77c52-7fe8-49ca-a2a4-a1852bcb2722"
      },
      "execution_count": null,
      "outputs": [
        {
          "output_type": "stream",
          "name": "stdout",
          "text": [
            "{'India': 'New Delhi', 'Australia': 'Canberra', 'United States': 'Washington DC', 'England': 'London'}\n"
          ]
        }
      ]
    },
    {
      "cell_type": "code",
      "source": [
        "#The conventional for loop approach\n",
        "flipped = {}\n",
        "for country, city in country_city_dict.items():\n",
        "  flipped[city] = country\n",
        "\n",
        "print(flipped)\n",
        "\n"
      ],
      "metadata": {
        "id": "kSb34Yf7f3e9",
        "colab": {
          "base_uri": "https://localhost:8080/"
        },
        "outputId": "52e67cdd-3100-4e18-ae0b-956e33765ffd"
      },
      "execution_count": null,
      "outputs": [
        {
          "output_type": "stream",
          "name": "stdout",
          "text": [
            "{'New Delhi': 'India', 'Canberra': 'Australia', 'Washington DC': 'United States', 'London': 'England'}\n"
          ]
        }
      ]
    },
    {
      "cell_type": "code",
      "source": [
        "#The new dictionary comprehension\n",
        "\n",
        "flipped = {city:country for country,city in country_city_dict.items()}\n",
        "print(flipped)"
      ],
      "metadata": {
        "colab": {
          "base_uri": "https://localhost:8080/"
        },
        "id": "NotKTU0oGHw8",
        "outputId": "94b7c288-b145-4588-e17f-30e48e097eac"
      },
      "execution_count": null,
      "outputs": [
        {
          "output_type": "stream",
          "name": "stdout",
          "text": [
            "{'New Delhi': 'India', 'Canberra': 'Australia', 'Washington DC': 'United States', 'London': 'England'}\n"
          ]
        }
      ]
    },
    {
      "cell_type": "code",
      "source": [
        "#We can add further conditionals\n",
        "\n",
        "flipped = {city:country for country,city in country_city_dict.items() if country[0] in ['E','A']}\n",
        "print(flipped)"
      ],
      "metadata": {
        "colab": {
          "base_uri": "https://localhost:8080/"
        },
        "id": "Dzws1LbVHEsL",
        "outputId": "e3bc3325-d8e8-47e6-cb3a-1703091a4fbe"
      },
      "execution_count": null,
      "outputs": [
        {
          "output_type": "stream",
          "name": "stdout",
          "text": [
            "{'Canberra': 'Australia', 'London': 'England'}\n"
          ]
        }
      ]
    },
    {
      "cell_type": "code",
      "source": [
        "#The new dictionary comprehensions\n",
        "\n",
        "flipped = {country[:2] : city[-2:]for country,city in country_city_dict.items()}\n",
        "print(flipped)"
      ],
      "metadata": {
        "colab": {
          "base_uri": "https://localhost:8080/"
        },
        "id": "CrME8ilmE2m0",
        "outputId": "96689e97-6e78-4a9d-eee7-7fdc7f4c665c"
      },
      "execution_count": null,
      "outputs": [
        {
          "output_type": "stream",
          "name": "stdout",
          "text": [
            "{'In': 'hi', 'Au': 'ra', 'Un': 'DC', 'En': 'on'}\n"
          ]
        }
      ]
    },
    {
      "cell_type": "code",
      "source": [
        "print(country_city_dict)"
      ],
      "metadata": {
        "colab": {
          "base_uri": "https://localhost:8080/"
        },
        "id": "6YVQK9niJc1k",
        "outputId": "2a61698a-66ea-4961-94cb-ef5107cc0455"
      },
      "execution_count": null,
      "outputs": [
        {
          "output_type": "stream",
          "name": "stdout",
          "text": [
            "{'India': 'New Delhi', 'Australia': 'Canberra', 'United States': 'Washington DC', 'England': 'London'}\n"
          ]
        }
      ]
    }
  ]
}